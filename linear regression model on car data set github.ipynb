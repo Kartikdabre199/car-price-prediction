{
 "cells": [
  {
   "cell_type": "markdown",
   "id": "ce009a4d",
   "metadata": {},
   "source": [
    "# Problem statement "
   ]
  },
  {
   "cell_type": "markdown",
   "id": "aae73deb",
   "metadata": {},
   "source": [
    "create a model which can predict the price of the car according to the features of the car,"
   ]
  },
  {
   "cell_type": "markdown",
   "id": "8d3abf37",
   "metadata": {},
   "source": [
    "# Importing Relevant Libraries"
   ]
  },
  {
   "cell_type": "code",
   "execution_count": 135,
   "id": "d9a6b7a2",
   "metadata": {},
   "outputs": [
    {
     "name": "stdout",
     "output_type": "stream",
     "text": [
      "Using matplotlib backend: QtAgg\n"
     ]
    }
   ],
   "source": [
    "import pandas as pd \n",
    "import numpy as np \n",
    "import seaborn as sns \n",
    "import matplotlib.pyplot as plt\n",
    "%matplotlib"
   ]
  },
  {
   "cell_type": "markdown",
   "id": "315d9885",
   "metadata": {},
   "source": [
    "# Reading and Understanding the Data "
   ]
  },
  {
   "cell_type": "code",
   "execution_count": 245,
   "id": "26ca2930",
   "metadata": {},
   "outputs": [],
   "source": [
    "# Read the Dateset\n",
    "car =pd.read_csv(\"G:\\python\\car_price.csv\")"
   ]
  },
  {
   "cell_type": "code",
   "execution_count": 246,
   "id": "22f446d7",
   "metadata": {},
   "outputs": [
    {
     "data": {
      "text/html": [
       "<div>\n",
       "<style scoped>\n",
       "    .dataframe tbody tr th:only-of-type {\n",
       "        vertical-align: middle;\n",
       "    }\n",
       "\n",
       "    .dataframe tbody tr th {\n",
       "        vertical-align: top;\n",
       "    }\n",
       "\n",
       "    .dataframe thead th {\n",
       "        text-align: right;\n",
       "    }\n",
       "</style>\n",
       "<table border=\"1\" class=\"dataframe\">\n",
       "  <thead>\n",
       "    <tr style=\"text-align: right;\">\n",
       "      <th></th>\n",
       "      <th>symboling</th>\n",
       "      <th>normalized_losses</th>\n",
       "      <th>Fuel_type</th>\n",
       "      <th>make</th>\n",
       "      <th>num_of_doors</th>\n",
       "      <th>aspiration</th>\n",
       "      <th>wheel_base</th>\n",
       "      <th>engine_location</th>\n",
       "      <th>drive_wheels</th>\n",
       "      <th>body_style</th>\n",
       "      <th>...</th>\n",
       "      <th>engine_size</th>\n",
       "      <th>fuel_system</th>\n",
       "      <th>bore</th>\n",
       "      <th>stroke</th>\n",
       "      <th>compression_ratio</th>\n",
       "      <th>horsepower</th>\n",
       "      <th>peak_rpm</th>\n",
       "      <th>city_mpg</th>\n",
       "      <th>highway_mpg</th>\n",
       "      <th>price</th>\n",
       "    </tr>\n",
       "  </thead>\n",
       "  <tbody>\n",
       "    <tr>\n",
       "      <th>0</th>\n",
       "      <td>3</td>\n",
       "      <td>?</td>\n",
       "      <td>gas</td>\n",
       "      <td>std</td>\n",
       "      <td>two</td>\n",
       "      <td>convertible</td>\n",
       "      <td>rwd</td>\n",
       "      <td>front</td>\n",
       "      <td>88.6</td>\n",
       "      <td>alfa-romero</td>\n",
       "      <td>...</td>\n",
       "      <td>130</td>\n",
       "      <td>mpfi</td>\n",
       "      <td>3.47</td>\n",
       "      <td>2.68</td>\n",
       "      <td>9.0</td>\n",
       "      <td>111</td>\n",
       "      <td>5000</td>\n",
       "      <td>21</td>\n",
       "      <td>27</td>\n",
       "      <td>13495</td>\n",
       "    </tr>\n",
       "    <tr>\n",
       "      <th>1</th>\n",
       "      <td>3</td>\n",
       "      <td>?</td>\n",
       "      <td>gas</td>\n",
       "      <td>std</td>\n",
       "      <td>two</td>\n",
       "      <td>convertible</td>\n",
       "      <td>rwd</td>\n",
       "      <td>front</td>\n",
       "      <td>88.6</td>\n",
       "      <td>alfa-romero</td>\n",
       "      <td>...</td>\n",
       "      <td>130</td>\n",
       "      <td>mpfi</td>\n",
       "      <td>3.47</td>\n",
       "      <td>2.68</td>\n",
       "      <td>9.0</td>\n",
       "      <td>111</td>\n",
       "      <td>5000</td>\n",
       "      <td>21</td>\n",
       "      <td>27</td>\n",
       "      <td>16500</td>\n",
       "    </tr>\n",
       "    <tr>\n",
       "      <th>2</th>\n",
       "      <td>1</td>\n",
       "      <td>?</td>\n",
       "      <td>gas</td>\n",
       "      <td>std</td>\n",
       "      <td>two</td>\n",
       "      <td>hatchback</td>\n",
       "      <td>rwd</td>\n",
       "      <td>front</td>\n",
       "      <td>94.5</td>\n",
       "      <td>alfa-romero</td>\n",
       "      <td>...</td>\n",
       "      <td>152</td>\n",
       "      <td>mpfi</td>\n",
       "      <td>2.68</td>\n",
       "      <td>3.47</td>\n",
       "      <td>9.0</td>\n",
       "      <td>154</td>\n",
       "      <td>5000</td>\n",
       "      <td>19</td>\n",
       "      <td>26</td>\n",
       "      <td>16500</td>\n",
       "    </tr>\n",
       "    <tr>\n",
       "      <th>3</th>\n",
       "      <td>2</td>\n",
       "      <td>164</td>\n",
       "      <td>gas</td>\n",
       "      <td>std</td>\n",
       "      <td>four</td>\n",
       "      <td>sedan</td>\n",
       "      <td>fwd</td>\n",
       "      <td>front</td>\n",
       "      <td>99.8</td>\n",
       "      <td>audi</td>\n",
       "      <td>...</td>\n",
       "      <td>109</td>\n",
       "      <td>mpfi</td>\n",
       "      <td>3.19</td>\n",
       "      <td>3.4</td>\n",
       "      <td>10.0</td>\n",
       "      <td>102</td>\n",
       "      <td>5500</td>\n",
       "      <td>24</td>\n",
       "      <td>30</td>\n",
       "      <td>13950</td>\n",
       "    </tr>\n",
       "    <tr>\n",
       "      <th>4</th>\n",
       "      <td>2</td>\n",
       "      <td>164</td>\n",
       "      <td>gas</td>\n",
       "      <td>std</td>\n",
       "      <td>four</td>\n",
       "      <td>sedan</td>\n",
       "      <td>4wd</td>\n",
       "      <td>front</td>\n",
       "      <td>99.4</td>\n",
       "      <td>audi</td>\n",
       "      <td>...</td>\n",
       "      <td>136</td>\n",
       "      <td>mpfi</td>\n",
       "      <td>3.19</td>\n",
       "      <td>3.4</td>\n",
       "      <td>8.0</td>\n",
       "      <td>115</td>\n",
       "      <td>5500</td>\n",
       "      <td>18</td>\n",
       "      <td>22</td>\n",
       "      <td>17450</td>\n",
       "    </tr>\n",
       "  </tbody>\n",
       "</table>\n",
       "<p>5 rows × 26 columns</p>\n",
       "</div>"
      ],
      "text/plain": [
       "   symboling normalized_losses Fuel_type make num_of_doors   aspiration  \\\n",
       "0          3                 ?       gas  std          two  convertible   \n",
       "1          3                 ?       gas  std          two  convertible   \n",
       "2          1                 ?       gas  std          two    hatchback   \n",
       "3          2               164       gas  std         four        sedan   \n",
       "4          2               164       gas  std         four        sedan   \n",
       "\n",
       "  wheel_base engine_location  drive_wheels   body_style  ...  engine_size  \\\n",
       "0        rwd           front          88.6  alfa-romero  ...          130   \n",
       "1        rwd           front          88.6  alfa-romero  ...          130   \n",
       "2        rwd           front          94.5  alfa-romero  ...          152   \n",
       "3        fwd           front          99.8         audi  ...          109   \n",
       "4        4wd           front          99.4         audi  ...          136   \n",
       "\n",
       "   fuel_system  bore  stroke compression_ratio horsepower  peak_rpm city_mpg  \\\n",
       "0         mpfi  3.47    2.68               9.0        111      5000       21   \n",
       "1         mpfi  3.47    2.68               9.0        111      5000       21   \n",
       "2         mpfi  2.68    3.47               9.0        154      5000       19   \n",
       "3         mpfi  3.19     3.4              10.0        102      5500       24   \n",
       "4         mpfi  3.19     3.4               8.0        115      5500       18   \n",
       "\n",
       "  highway_mpg  price  \n",
       "0          27  13495  \n",
       "1          27  16500  \n",
       "2          26  16500  \n",
       "3          30  13950  \n",
       "4          22  17450  \n",
       "\n",
       "[5 rows x 26 columns]"
      ]
     },
     "execution_count": 246,
     "metadata": {},
     "output_type": "execute_result"
    }
   ],
   "source": [
    "# lets see how dataset looks like \n",
    "car.head()"
   ]
  },
  {
   "cell_type": "code",
   "execution_count": null,
   "id": "0bf1aa4e",
   "metadata": {},
   "outputs": [],
   "source": []
  },
  {
   "cell_type": "code",
   "execution_count": 247,
   "id": "d3d7ef16",
   "metadata": {
    "scrolled": true
   },
   "outputs": [
    {
     "data": {
      "text/plain": [
       "(205, 26)"
      ]
     },
     "execution_count": 247,
     "metadata": {},
     "output_type": "execute_result"
    }
   ],
   "source": [
    "# lets see the no of rows and columns we have \n",
    "car.shape"
   ]
  },
  {
   "cell_type": "code",
   "execution_count": 248,
   "id": "75a7084b",
   "metadata": {
    "scrolled": true
   },
   "outputs": [
    {
     "name": "stdout",
     "output_type": "stream",
     "text": [
      "<class 'pandas.core.frame.DataFrame'>\n",
      "RangeIndex: 205 entries, 0 to 204\n",
      "Data columns (total 26 columns):\n",
      " #   Column             Non-Null Count  Dtype  \n",
      "---  ------             --------------  -----  \n",
      " 0   symboling          205 non-null    int64  \n",
      " 1   normalized_losses  205 non-null    object \n",
      " 2   Fuel_type          205 non-null    object \n",
      " 3   make               205 non-null    object \n",
      " 4   num_of_doors       205 non-null    object \n",
      " 5   aspiration         205 non-null    object \n",
      " 6   wheel_base         205 non-null    object \n",
      " 7   engine_location    205 non-null    object \n",
      " 8   drive_wheels       205 non-null    float64\n",
      " 9   body_style         205 non-null    object \n",
      " 10  length             205 non-null    float64\n",
      " 11  width              205 non-null    float64\n",
      " 12  height             205 non-null    float64\n",
      " 13  curb_weight        205 non-null    int64  \n",
      " 14  engine_type        205 non-null    object \n",
      " 15  num_of_cylinders   205 non-null    object \n",
      " 16  engine_size        205 non-null    int64  \n",
      " 17  fuel_system        205 non-null    object \n",
      " 18  bore               205 non-null    object \n",
      " 19  stroke             205 non-null    object \n",
      " 20  compression_ratio  205 non-null    float64\n",
      " 21  horsepower         205 non-null    object \n",
      " 22  peak_rpm           205 non-null    object \n",
      " 23  city_mpg           205 non-null    int64  \n",
      " 24  highway_mpg        205 non-null    int64  \n",
      " 25  price              205 non-null    object \n",
      "dtypes: float64(5), int64(5), object(16)\n",
      "memory usage: 41.8+ KB\n"
     ]
    }
   ],
   "source": [
    "# lets see the information of the dataset \n",
    "car.info()"
   ]
  },
  {
   "cell_type": "markdown",
   "id": "0ad4ff73",
   "metadata": {},
   "source": [
    "# Lets convert the Undefined values with the Nan Values "
   ]
  },
  {
   "cell_type": "code",
   "execution_count": 249,
   "id": "72a20732",
   "metadata": {},
   "outputs": [],
   "source": [
    "car= car.replace({'?': np.nan})"
   ]
  },
  {
   "cell_type": "markdown",
   "id": "e477fcdc",
   "metadata": {},
   "source": [
    "# Lets change the Datatype from Object to Float"
   ]
  },
  {
   "cell_type": "code",
   "execution_count": 250,
   "id": "8cbd8091",
   "metadata": {},
   "outputs": [],
   "source": [
    "car.normalized_losses =  car.normalized_losses.astype('float')\n",
    "car.bore =  car.bore.astype('float')\n",
    "car.stroke =  car.stroke.astype('float')\n",
    "car.peak_rpm =  car.peak_rpm.astype('float')\n",
    "car.price = car.price.astype('float')\n",
    "car.horsepower  = car.horsepower.astype('float')\n"
   ]
  },
  {
   "cell_type": "markdown",
   "id": "bd7489b4",
   "metadata": {},
   "source": [
    "# Lets see some summary"
   ]
  },
  {
   "cell_type": "code",
   "execution_count": 251,
   "id": "82897fc8",
   "metadata": {
    "scrolled": false
   },
   "outputs": [
    {
     "data": {
      "text/html": [
       "<div>\n",
       "<style scoped>\n",
       "    .dataframe tbody tr th:only-of-type {\n",
       "        vertical-align: middle;\n",
       "    }\n",
       "\n",
       "    .dataframe tbody tr th {\n",
       "        vertical-align: top;\n",
       "    }\n",
       "\n",
       "    .dataframe thead th {\n",
       "        text-align: right;\n",
       "    }\n",
       "</style>\n",
       "<table border=\"1\" class=\"dataframe\">\n",
       "  <thead>\n",
       "    <tr style=\"text-align: right;\">\n",
       "      <th></th>\n",
       "      <th>symboling</th>\n",
       "      <th>normalized_losses</th>\n",
       "      <th>drive_wheels</th>\n",
       "      <th>length</th>\n",
       "      <th>width</th>\n",
       "      <th>height</th>\n",
       "      <th>curb_weight</th>\n",
       "      <th>engine_size</th>\n",
       "      <th>bore</th>\n",
       "      <th>stroke</th>\n",
       "      <th>compression_ratio</th>\n",
       "      <th>horsepower</th>\n",
       "      <th>peak_rpm</th>\n",
       "      <th>city_mpg</th>\n",
       "      <th>highway_mpg</th>\n",
       "      <th>price</th>\n",
       "    </tr>\n",
       "  </thead>\n",
       "  <tbody>\n",
       "    <tr>\n",
       "      <th>count</th>\n",
       "      <td>205.000000</td>\n",
       "      <td>164.000000</td>\n",
       "      <td>205.000000</td>\n",
       "      <td>205.000000</td>\n",
       "      <td>205.000000</td>\n",
       "      <td>205.000000</td>\n",
       "      <td>205.000000</td>\n",
       "      <td>205.000000</td>\n",
       "      <td>201.000000</td>\n",
       "      <td>201.000000</td>\n",
       "      <td>205.000000</td>\n",
       "      <td>203.000000</td>\n",
       "      <td>203.000000</td>\n",
       "      <td>205.000000</td>\n",
       "      <td>205.000000</td>\n",
       "      <td>201.000000</td>\n",
       "    </tr>\n",
       "    <tr>\n",
       "      <th>mean</th>\n",
       "      <td>0.834146</td>\n",
       "      <td>122.000000</td>\n",
       "      <td>98.756585</td>\n",
       "      <td>174.049268</td>\n",
       "      <td>65.907805</td>\n",
       "      <td>53.724878</td>\n",
       "      <td>2555.565854</td>\n",
       "      <td>126.907317</td>\n",
       "      <td>3.329751</td>\n",
       "      <td>3.255423</td>\n",
       "      <td>10.142537</td>\n",
       "      <td>104.256158</td>\n",
       "      <td>5125.369458</td>\n",
       "      <td>25.219512</td>\n",
       "      <td>30.751220</td>\n",
       "      <td>13207.129353</td>\n",
       "    </tr>\n",
       "    <tr>\n",
       "      <th>std</th>\n",
       "      <td>1.245307</td>\n",
       "      <td>35.442168</td>\n",
       "      <td>6.021776</td>\n",
       "      <td>12.337289</td>\n",
       "      <td>2.145204</td>\n",
       "      <td>2.443522</td>\n",
       "      <td>520.680204</td>\n",
       "      <td>41.642693</td>\n",
       "      <td>0.273539</td>\n",
       "      <td>0.316717</td>\n",
       "      <td>3.972040</td>\n",
       "      <td>39.714369</td>\n",
       "      <td>479.334560</td>\n",
       "      <td>6.542142</td>\n",
       "      <td>6.886443</td>\n",
       "      <td>7947.066342</td>\n",
       "    </tr>\n",
       "    <tr>\n",
       "      <th>min</th>\n",
       "      <td>-2.000000</td>\n",
       "      <td>65.000000</td>\n",
       "      <td>86.600000</td>\n",
       "      <td>141.100000</td>\n",
       "      <td>60.300000</td>\n",
       "      <td>47.800000</td>\n",
       "      <td>1488.000000</td>\n",
       "      <td>61.000000</td>\n",
       "      <td>2.540000</td>\n",
       "      <td>2.070000</td>\n",
       "      <td>7.000000</td>\n",
       "      <td>48.000000</td>\n",
       "      <td>4150.000000</td>\n",
       "      <td>13.000000</td>\n",
       "      <td>16.000000</td>\n",
       "      <td>5118.000000</td>\n",
       "    </tr>\n",
       "    <tr>\n",
       "      <th>25%</th>\n",
       "      <td>0.000000</td>\n",
       "      <td>94.000000</td>\n",
       "      <td>94.500000</td>\n",
       "      <td>166.300000</td>\n",
       "      <td>64.100000</td>\n",
       "      <td>52.000000</td>\n",
       "      <td>2145.000000</td>\n",
       "      <td>97.000000</td>\n",
       "      <td>3.150000</td>\n",
       "      <td>3.110000</td>\n",
       "      <td>8.600000</td>\n",
       "      <td>70.000000</td>\n",
       "      <td>4800.000000</td>\n",
       "      <td>19.000000</td>\n",
       "      <td>25.000000</td>\n",
       "      <td>7775.000000</td>\n",
       "    </tr>\n",
       "    <tr>\n",
       "      <th>50%</th>\n",
       "      <td>1.000000</td>\n",
       "      <td>115.000000</td>\n",
       "      <td>97.000000</td>\n",
       "      <td>173.200000</td>\n",
       "      <td>65.500000</td>\n",
       "      <td>54.100000</td>\n",
       "      <td>2414.000000</td>\n",
       "      <td>120.000000</td>\n",
       "      <td>3.310000</td>\n",
       "      <td>3.290000</td>\n",
       "      <td>9.000000</td>\n",
       "      <td>95.000000</td>\n",
       "      <td>5200.000000</td>\n",
       "      <td>24.000000</td>\n",
       "      <td>30.000000</td>\n",
       "      <td>10295.000000</td>\n",
       "    </tr>\n",
       "    <tr>\n",
       "      <th>75%</th>\n",
       "      <td>2.000000</td>\n",
       "      <td>150.000000</td>\n",
       "      <td>102.400000</td>\n",
       "      <td>183.100000</td>\n",
       "      <td>66.900000</td>\n",
       "      <td>55.500000</td>\n",
       "      <td>2935.000000</td>\n",
       "      <td>141.000000</td>\n",
       "      <td>3.590000</td>\n",
       "      <td>3.410000</td>\n",
       "      <td>9.400000</td>\n",
       "      <td>116.000000</td>\n",
       "      <td>5500.000000</td>\n",
       "      <td>30.000000</td>\n",
       "      <td>34.000000</td>\n",
       "      <td>16500.000000</td>\n",
       "    </tr>\n",
       "    <tr>\n",
       "      <th>max</th>\n",
       "      <td>3.000000</td>\n",
       "      <td>256.000000</td>\n",
       "      <td>120.900000</td>\n",
       "      <td>208.100000</td>\n",
       "      <td>72.300000</td>\n",
       "      <td>59.800000</td>\n",
       "      <td>4066.000000</td>\n",
       "      <td>326.000000</td>\n",
       "      <td>3.940000</td>\n",
       "      <td>4.170000</td>\n",
       "      <td>23.000000</td>\n",
       "      <td>288.000000</td>\n",
       "      <td>6600.000000</td>\n",
       "      <td>49.000000</td>\n",
       "      <td>54.000000</td>\n",
       "      <td>45400.000000</td>\n",
       "    </tr>\n",
       "  </tbody>\n",
       "</table>\n",
       "</div>"
      ],
      "text/plain": [
       "        symboling  normalized_losses  drive_wheels      length       width  \\\n",
       "count  205.000000         164.000000    205.000000  205.000000  205.000000   \n",
       "mean     0.834146         122.000000     98.756585  174.049268   65.907805   \n",
       "std      1.245307          35.442168      6.021776   12.337289    2.145204   \n",
       "min     -2.000000          65.000000     86.600000  141.100000   60.300000   \n",
       "25%      0.000000          94.000000     94.500000  166.300000   64.100000   \n",
       "50%      1.000000         115.000000     97.000000  173.200000   65.500000   \n",
       "75%      2.000000         150.000000    102.400000  183.100000   66.900000   \n",
       "max      3.000000         256.000000    120.900000  208.100000   72.300000   \n",
       "\n",
       "           height  curb_weight  engine_size        bore      stroke  \\\n",
       "count  205.000000   205.000000   205.000000  201.000000  201.000000   \n",
       "mean    53.724878  2555.565854   126.907317    3.329751    3.255423   \n",
       "std      2.443522   520.680204    41.642693    0.273539    0.316717   \n",
       "min     47.800000  1488.000000    61.000000    2.540000    2.070000   \n",
       "25%     52.000000  2145.000000    97.000000    3.150000    3.110000   \n",
       "50%     54.100000  2414.000000   120.000000    3.310000    3.290000   \n",
       "75%     55.500000  2935.000000   141.000000    3.590000    3.410000   \n",
       "max     59.800000  4066.000000   326.000000    3.940000    4.170000   \n",
       "\n",
       "       compression_ratio  horsepower     peak_rpm    city_mpg  highway_mpg  \\\n",
       "count         205.000000  203.000000   203.000000  205.000000   205.000000   \n",
       "mean           10.142537  104.256158  5125.369458   25.219512    30.751220   \n",
       "std             3.972040   39.714369   479.334560    6.542142     6.886443   \n",
       "min             7.000000   48.000000  4150.000000   13.000000    16.000000   \n",
       "25%             8.600000   70.000000  4800.000000   19.000000    25.000000   \n",
       "50%             9.000000   95.000000  5200.000000   24.000000    30.000000   \n",
       "75%             9.400000  116.000000  5500.000000   30.000000    34.000000   \n",
       "max            23.000000  288.000000  6600.000000   49.000000    54.000000   \n",
       "\n",
       "              price  \n",
       "count    201.000000  \n",
       "mean   13207.129353  \n",
       "std     7947.066342  \n",
       "min     5118.000000  \n",
       "25%     7775.000000  \n",
       "50%    10295.000000  \n",
       "75%    16500.000000  \n",
       "max    45400.000000  "
      ]
     },
     "execution_count": 251,
     "metadata": {},
     "output_type": "execute_result"
    }
   ],
   "source": [
    "\n",
    "# describe function shows only numeric data \n",
    "car.describe()"
   ]
  },
  {
   "cell_type": "markdown",
   "id": "df825178",
   "metadata": {},
   "source": [
    "# Missing values "
   ]
  },
  {
   "cell_type": "code",
   "execution_count": 252,
   "id": "4c9b18f3",
   "metadata": {},
   "outputs": [
    {
     "data": {
      "text/plain": [
       "symboling             0\n",
       "normalized_losses    41\n",
       "Fuel_type             0\n",
       "make                  0\n",
       "num_of_doors          2\n",
       "aspiration            0\n",
       "wheel_base            0\n",
       "engine_location       0\n",
       "drive_wheels          0\n",
       "body_style            0\n",
       "length                0\n",
       "width                 0\n",
       "height                0\n",
       "curb_weight           0\n",
       "engine_type           0\n",
       "num_of_cylinders      0\n",
       "engine_size           0\n",
       "fuel_system           0\n",
       "bore                  4\n",
       "stroke                4\n",
       "compression_ratio     0\n",
       "horsepower            2\n",
       "peak_rpm              2\n",
       "city_mpg              0\n",
       "highway_mpg           0\n",
       "price                 4\n",
       "dtype: int64"
      ]
     },
     "execution_count": 252,
     "metadata": {},
     "output_type": "execute_result"
    }
   ],
   "source": [
    "car.isnull().sum()"
   ]
  },
  {
   "cell_type": "markdown",
   "id": "4aff014a",
   "metadata": {},
   "source": [
    "# Lets fill the Nulls "
   ]
  },
  {
   "cell_type": "code",
   "execution_count": 253,
   "id": "d7aac116",
   "metadata": {},
   "outputs": [],
   "source": [
    "car.normalized_losses  = car.normalized_losses.fillna(car.normalized_losses.mean())\n",
    "car.bore   = car.bore.fillna(car.bore.mean())\n",
    "car.stroke  =car.stroke.fillna(car.stroke.mean())\n",
    "car.peak_rpm  =car.peak_rpm.fillna(car.peak_rpm.mean())\n",
    "car.horsepower  =car.horsepower.fillna(car.horsepower.mean())\n",
    "car.num_of_doors  =car.num_of_doors.fillna('four')\n"
   ]
  },
  {
   "cell_type": "code",
   "execution_count": 254,
   "id": "f38b4d46",
   "metadata": {
    "scrolled": true
   },
   "outputs": [
    {
     "data": {
      "text/plain": [
       "symboling            0\n",
       "normalized_losses    0\n",
       "Fuel_type            0\n",
       "make                 0\n",
       "num_of_doors         0\n",
       "aspiration           0\n",
       "wheel_base           0\n",
       "engine_location      0\n",
       "drive_wheels         0\n",
       "body_style           0\n",
       "length               0\n",
       "width                0\n",
       "height               0\n",
       "curb_weight          0\n",
       "engine_type          0\n",
       "num_of_cylinders     0\n",
       "engine_size          0\n",
       "fuel_system          0\n",
       "bore                 0\n",
       "stroke               0\n",
       "compression_ratio    0\n",
       "horsepower           0\n",
       "peak_rpm             0\n",
       "city_mpg             0\n",
       "highway_mpg          0\n",
       "price                4\n",
       "dtype: int64"
      ]
     },
     "execution_count": 254,
     "metadata": {},
     "output_type": "execute_result"
    }
   ],
   "source": [
    "car.isnull().sum()"
   ]
  },
  {
   "cell_type": "code",
   "execution_count": 255,
   "id": "e6368a59",
   "metadata": {},
   "outputs": [
    {
     "data": {
      "text/plain": [
       "price    4\n",
       "dtype: int64"
      ]
     },
     "execution_count": 255,
     "metadata": {},
     "output_type": "execute_result"
    }
   ],
   "source": [
    "car.isnull().sum()[car.isnull().sum()>0]"
   ]
  },
  {
   "cell_type": "code",
   "execution_count": 256,
   "id": "7c5cd477",
   "metadata": {},
   "outputs": [],
   "source": [
    "car =car.dropna()"
   ]
  },
  {
   "cell_type": "code",
   "execution_count": 257,
   "id": "45084fe2",
   "metadata": {
    "scrolled": true
   },
   "outputs": [
    {
     "data": {
      "text/html": [
       "<div>\n",
       "<style scoped>\n",
       "    .dataframe tbody tr th:only-of-type {\n",
       "        vertical-align: middle;\n",
       "    }\n",
       "\n",
       "    .dataframe tbody tr th {\n",
       "        vertical-align: top;\n",
       "    }\n",
       "\n",
       "    .dataframe thead th {\n",
       "        text-align: right;\n",
       "    }\n",
       "</style>\n",
       "<table border=\"1\" class=\"dataframe\">\n",
       "  <thead>\n",
       "    <tr style=\"text-align: right;\">\n",
       "      <th></th>\n",
       "      <th>symboling</th>\n",
       "      <th>normalized_losses</th>\n",
       "      <th>Fuel_type</th>\n",
       "      <th>make</th>\n",
       "      <th>num_of_doors</th>\n",
       "      <th>aspiration</th>\n",
       "      <th>wheel_base</th>\n",
       "      <th>engine_location</th>\n",
       "      <th>drive_wheels</th>\n",
       "      <th>body_style</th>\n",
       "      <th>...</th>\n",
       "      <th>engine_size</th>\n",
       "      <th>fuel_system</th>\n",
       "      <th>bore</th>\n",
       "      <th>stroke</th>\n",
       "      <th>compression_ratio</th>\n",
       "      <th>horsepower</th>\n",
       "      <th>peak_rpm</th>\n",
       "      <th>city_mpg</th>\n",
       "      <th>highway_mpg</th>\n",
       "      <th>price</th>\n",
       "    </tr>\n",
       "  </thead>\n",
       "  <tbody>\n",
       "    <tr>\n",
       "      <th>0</th>\n",
       "      <td>3</td>\n",
       "      <td>122.0</td>\n",
       "      <td>gas</td>\n",
       "      <td>std</td>\n",
       "      <td>two</td>\n",
       "      <td>convertible</td>\n",
       "      <td>rwd</td>\n",
       "      <td>front</td>\n",
       "      <td>88.6</td>\n",
       "      <td>alfa-romero</td>\n",
       "      <td>...</td>\n",
       "      <td>130</td>\n",
       "      <td>mpfi</td>\n",
       "      <td>3.47</td>\n",
       "      <td>2.68</td>\n",
       "      <td>9.0</td>\n",
       "      <td>111.0</td>\n",
       "      <td>5000.0</td>\n",
       "      <td>21</td>\n",
       "      <td>27</td>\n",
       "      <td>13495.0</td>\n",
       "    </tr>\n",
       "    <tr>\n",
       "      <th>1</th>\n",
       "      <td>3</td>\n",
       "      <td>122.0</td>\n",
       "      <td>gas</td>\n",
       "      <td>std</td>\n",
       "      <td>two</td>\n",
       "      <td>convertible</td>\n",
       "      <td>rwd</td>\n",
       "      <td>front</td>\n",
       "      <td>88.6</td>\n",
       "      <td>alfa-romero</td>\n",
       "      <td>...</td>\n",
       "      <td>130</td>\n",
       "      <td>mpfi</td>\n",
       "      <td>3.47</td>\n",
       "      <td>2.68</td>\n",
       "      <td>9.0</td>\n",
       "      <td>111.0</td>\n",
       "      <td>5000.0</td>\n",
       "      <td>21</td>\n",
       "      <td>27</td>\n",
       "      <td>16500.0</td>\n",
       "    </tr>\n",
       "    <tr>\n",
       "      <th>2</th>\n",
       "      <td>1</td>\n",
       "      <td>122.0</td>\n",
       "      <td>gas</td>\n",
       "      <td>std</td>\n",
       "      <td>two</td>\n",
       "      <td>hatchback</td>\n",
       "      <td>rwd</td>\n",
       "      <td>front</td>\n",
       "      <td>94.5</td>\n",
       "      <td>alfa-romero</td>\n",
       "      <td>...</td>\n",
       "      <td>152</td>\n",
       "      <td>mpfi</td>\n",
       "      <td>2.68</td>\n",
       "      <td>3.47</td>\n",
       "      <td>9.0</td>\n",
       "      <td>154.0</td>\n",
       "      <td>5000.0</td>\n",
       "      <td>19</td>\n",
       "      <td>26</td>\n",
       "      <td>16500.0</td>\n",
       "    </tr>\n",
       "    <tr>\n",
       "      <th>3</th>\n",
       "      <td>2</td>\n",
       "      <td>164.0</td>\n",
       "      <td>gas</td>\n",
       "      <td>std</td>\n",
       "      <td>four</td>\n",
       "      <td>sedan</td>\n",
       "      <td>fwd</td>\n",
       "      <td>front</td>\n",
       "      <td>99.8</td>\n",
       "      <td>audi</td>\n",
       "      <td>...</td>\n",
       "      <td>109</td>\n",
       "      <td>mpfi</td>\n",
       "      <td>3.19</td>\n",
       "      <td>3.40</td>\n",
       "      <td>10.0</td>\n",
       "      <td>102.0</td>\n",
       "      <td>5500.0</td>\n",
       "      <td>24</td>\n",
       "      <td>30</td>\n",
       "      <td>13950.0</td>\n",
       "    </tr>\n",
       "    <tr>\n",
       "      <th>4</th>\n",
       "      <td>2</td>\n",
       "      <td>164.0</td>\n",
       "      <td>gas</td>\n",
       "      <td>std</td>\n",
       "      <td>four</td>\n",
       "      <td>sedan</td>\n",
       "      <td>4wd</td>\n",
       "      <td>front</td>\n",
       "      <td>99.4</td>\n",
       "      <td>audi</td>\n",
       "      <td>...</td>\n",
       "      <td>136</td>\n",
       "      <td>mpfi</td>\n",
       "      <td>3.19</td>\n",
       "      <td>3.40</td>\n",
       "      <td>8.0</td>\n",
       "      <td>115.0</td>\n",
       "      <td>5500.0</td>\n",
       "      <td>18</td>\n",
       "      <td>22</td>\n",
       "      <td>17450.0</td>\n",
       "    </tr>\n",
       "  </tbody>\n",
       "</table>\n",
       "<p>5 rows × 26 columns</p>\n",
       "</div>"
      ],
      "text/plain": [
       "   symboling  normalized_losses Fuel_type make num_of_doors   aspiration  \\\n",
       "0          3              122.0       gas  std          two  convertible   \n",
       "1          3              122.0       gas  std          two  convertible   \n",
       "2          1              122.0       gas  std          two    hatchback   \n",
       "3          2              164.0       gas  std         four        sedan   \n",
       "4          2              164.0       gas  std         four        sedan   \n",
       "\n",
       "  wheel_base engine_location  drive_wheels   body_style  ...  engine_size  \\\n",
       "0        rwd           front          88.6  alfa-romero  ...          130   \n",
       "1        rwd           front          88.6  alfa-romero  ...          130   \n",
       "2        rwd           front          94.5  alfa-romero  ...          152   \n",
       "3        fwd           front          99.8         audi  ...          109   \n",
       "4        4wd           front          99.4         audi  ...          136   \n",
       "\n",
       "   fuel_system  bore  stroke compression_ratio horsepower  peak_rpm city_mpg  \\\n",
       "0         mpfi  3.47    2.68               9.0      111.0    5000.0       21   \n",
       "1         mpfi  3.47    2.68               9.0      111.0    5000.0       21   \n",
       "2         mpfi  2.68    3.47               9.0      154.0    5000.0       19   \n",
       "3         mpfi  3.19    3.40              10.0      102.0    5500.0       24   \n",
       "4         mpfi  3.19    3.40               8.0      115.0    5500.0       18   \n",
       "\n",
       "   highway_mpg    price  \n",
       "0           27  13495.0  \n",
       "1           27  16500.0  \n",
       "2           26  16500.0  \n",
       "3           30  13950.0  \n",
       "4           22  17450.0  \n",
       "\n",
       "[5 rows x 26 columns]"
      ]
     },
     "execution_count": 257,
     "metadata": {},
     "output_type": "execute_result"
    }
   ],
   "source": [
    "car.head()"
   ]
  },
  {
   "cell_type": "markdown",
   "id": "1197c44b",
   "metadata": {},
   "source": [
    "# Lets fill the Categorical Values with the Numeric Values "
   ]
  },
  {
   "cell_type": "code",
   "execution_count": 258,
   "id": "f33258af",
   "metadata": {},
   "outputs": [],
   "source": [
    "from sklearn.preprocessing import LabelEncoder"
   ]
  },
  {
   "cell_type": "code",
   "execution_count": 259,
   "id": "aff92b1c",
   "metadata": {},
   "outputs": [],
   "source": [
    "le =LabelEncoder()"
   ]
  },
  {
   "cell_type": "code",
   "execution_count": 260,
   "id": "f6bd82d5",
   "metadata": {},
   "outputs": [],
   "source": [
    "car[car.select_dtypes(include=['object']).columns]= car[car.select_dtypes(include=['object']).columns].apply(le.fit_transform)"
   ]
  },
  {
   "cell_type": "code",
   "execution_count": null,
   "id": "9caeab3b",
   "metadata": {},
   "outputs": [],
   "source": []
  },
  {
   "cell_type": "code",
   "execution_count": 261,
   "id": "27aabe32",
   "metadata": {
    "scrolled": true
   },
   "outputs": [
    {
     "name": "stdout",
     "output_type": "stream",
     "text": [
      "<class 'pandas.core.frame.DataFrame'>\n",
      "Int64Index: 201 entries, 0 to 204\n",
      "Data columns (total 26 columns):\n",
      " #   Column             Non-Null Count  Dtype  \n",
      "---  ------             --------------  -----  \n",
      " 0   symboling          201 non-null    int64  \n",
      " 1   normalized_losses  201 non-null    float64\n",
      " 2   Fuel_type          201 non-null    int32  \n",
      " 3   make               201 non-null    int32  \n",
      " 4   num_of_doors       201 non-null    int32  \n",
      " 5   aspiration         201 non-null    int32  \n",
      " 6   wheel_base         201 non-null    int32  \n",
      " 7   engine_location    201 non-null    int32  \n",
      " 8   drive_wheels       201 non-null    float64\n",
      " 9   body_style         201 non-null    int32  \n",
      " 10  length             201 non-null    float64\n",
      " 11  width              201 non-null    float64\n",
      " 12  height             201 non-null    float64\n",
      " 13  curb_weight        201 non-null    int64  \n",
      " 14  engine_type        201 non-null    int32  \n",
      " 15  num_of_cylinders   201 non-null    int32  \n",
      " 16  engine_size        201 non-null    int64  \n",
      " 17  fuel_system        201 non-null    int32  \n",
      " 18  bore               201 non-null    float64\n",
      " 19  stroke             201 non-null    float64\n",
      " 20  compression_ratio  201 non-null    float64\n",
      " 21  horsepower         201 non-null    float64\n",
      " 22  peak_rpm           201 non-null    float64\n",
      " 23  city_mpg           201 non-null    int64  \n",
      " 24  highway_mpg        201 non-null    int64  \n",
      " 25  price              201 non-null    float64\n",
      "dtypes: float64(11), int32(10), int64(5)\n",
      "memory usage: 34.5 KB\n"
     ]
    }
   ],
   "source": [
    "car.info()"
   ]
  },
  {
   "cell_type": "code",
   "execution_count": null,
   "id": "2852ac5e",
   "metadata": {},
   "outputs": [],
   "source": []
  },
  {
   "cell_type": "code",
   "execution_count": 262,
   "id": "418e83ba",
   "metadata": {},
   "outputs": [
    {
     "data": {
      "text/html": [
       "<div>\n",
       "<style scoped>\n",
       "    .dataframe tbody tr th:only-of-type {\n",
       "        vertical-align: middle;\n",
       "    }\n",
       "\n",
       "    .dataframe tbody tr th {\n",
       "        vertical-align: top;\n",
       "    }\n",
       "\n",
       "    .dataframe thead th {\n",
       "        text-align: right;\n",
       "    }\n",
       "</style>\n",
       "<table border=\"1\" class=\"dataframe\">\n",
       "  <thead>\n",
       "    <tr style=\"text-align: right;\">\n",
       "      <th></th>\n",
       "      <th>symboling</th>\n",
       "      <th>normalized_losses</th>\n",
       "      <th>Fuel_type</th>\n",
       "      <th>make</th>\n",
       "      <th>num_of_doors</th>\n",
       "      <th>aspiration</th>\n",
       "      <th>wheel_base</th>\n",
       "      <th>engine_location</th>\n",
       "      <th>drive_wheels</th>\n",
       "      <th>body_style</th>\n",
       "      <th>...</th>\n",
       "      <th>engine_size</th>\n",
       "      <th>fuel_system</th>\n",
       "      <th>bore</th>\n",
       "      <th>stroke</th>\n",
       "      <th>compression_ratio</th>\n",
       "      <th>horsepower</th>\n",
       "      <th>peak_rpm</th>\n",
       "      <th>city_mpg</th>\n",
       "      <th>highway_mpg</th>\n",
       "      <th>price</th>\n",
       "    </tr>\n",
       "  </thead>\n",
       "  <tbody>\n",
       "    <tr>\n",
       "      <th>0</th>\n",
       "      <td>3</td>\n",
       "      <td>122.0</td>\n",
       "      <td>1</td>\n",
       "      <td>0</td>\n",
       "      <td>1</td>\n",
       "      <td>0</td>\n",
       "      <td>2</td>\n",
       "      <td>0</td>\n",
       "      <td>88.6</td>\n",
       "      <td>0</td>\n",
       "      <td>...</td>\n",
       "      <td>130</td>\n",
       "      <td>5</td>\n",
       "      <td>3.47</td>\n",
       "      <td>2.68</td>\n",
       "      <td>9.0</td>\n",
       "      <td>111.0</td>\n",
       "      <td>5000.0</td>\n",
       "      <td>21</td>\n",
       "      <td>27</td>\n",
       "      <td>13495.0</td>\n",
       "    </tr>\n",
       "    <tr>\n",
       "      <th>1</th>\n",
       "      <td>3</td>\n",
       "      <td>122.0</td>\n",
       "      <td>1</td>\n",
       "      <td>0</td>\n",
       "      <td>1</td>\n",
       "      <td>0</td>\n",
       "      <td>2</td>\n",
       "      <td>0</td>\n",
       "      <td>88.6</td>\n",
       "      <td>0</td>\n",
       "      <td>...</td>\n",
       "      <td>130</td>\n",
       "      <td>5</td>\n",
       "      <td>3.47</td>\n",
       "      <td>2.68</td>\n",
       "      <td>9.0</td>\n",
       "      <td>111.0</td>\n",
       "      <td>5000.0</td>\n",
       "      <td>21</td>\n",
       "      <td>27</td>\n",
       "      <td>16500.0</td>\n",
       "    </tr>\n",
       "    <tr>\n",
       "      <th>2</th>\n",
       "      <td>1</td>\n",
       "      <td>122.0</td>\n",
       "      <td>1</td>\n",
       "      <td>0</td>\n",
       "      <td>1</td>\n",
       "      <td>2</td>\n",
       "      <td>2</td>\n",
       "      <td>0</td>\n",
       "      <td>94.5</td>\n",
       "      <td>0</td>\n",
       "      <td>...</td>\n",
       "      <td>152</td>\n",
       "      <td>5</td>\n",
       "      <td>2.68</td>\n",
       "      <td>3.47</td>\n",
       "      <td>9.0</td>\n",
       "      <td>154.0</td>\n",
       "      <td>5000.0</td>\n",
       "      <td>19</td>\n",
       "      <td>26</td>\n",
       "      <td>16500.0</td>\n",
       "    </tr>\n",
       "    <tr>\n",
       "      <th>3</th>\n",
       "      <td>2</td>\n",
       "      <td>164.0</td>\n",
       "      <td>1</td>\n",
       "      <td>0</td>\n",
       "      <td>0</td>\n",
       "      <td>3</td>\n",
       "      <td>1</td>\n",
       "      <td>0</td>\n",
       "      <td>99.8</td>\n",
       "      <td>1</td>\n",
       "      <td>...</td>\n",
       "      <td>109</td>\n",
       "      <td>5</td>\n",
       "      <td>3.19</td>\n",
       "      <td>3.40</td>\n",
       "      <td>10.0</td>\n",
       "      <td>102.0</td>\n",
       "      <td>5500.0</td>\n",
       "      <td>24</td>\n",
       "      <td>30</td>\n",
       "      <td>13950.0</td>\n",
       "    </tr>\n",
       "    <tr>\n",
       "      <th>4</th>\n",
       "      <td>2</td>\n",
       "      <td>164.0</td>\n",
       "      <td>1</td>\n",
       "      <td>0</td>\n",
       "      <td>0</td>\n",
       "      <td>3</td>\n",
       "      <td>0</td>\n",
       "      <td>0</td>\n",
       "      <td>99.4</td>\n",
       "      <td>1</td>\n",
       "      <td>...</td>\n",
       "      <td>136</td>\n",
       "      <td>5</td>\n",
       "      <td>3.19</td>\n",
       "      <td>3.40</td>\n",
       "      <td>8.0</td>\n",
       "      <td>115.0</td>\n",
       "      <td>5500.0</td>\n",
       "      <td>18</td>\n",
       "      <td>22</td>\n",
       "      <td>17450.0</td>\n",
       "    </tr>\n",
       "  </tbody>\n",
       "</table>\n",
       "<p>5 rows × 26 columns</p>\n",
       "</div>"
      ],
      "text/plain": [
       "   symboling  normalized_losses  Fuel_type  make  num_of_doors  aspiration  \\\n",
       "0          3              122.0          1     0             1           0   \n",
       "1          3              122.0          1     0             1           0   \n",
       "2          1              122.0          1     0             1           2   \n",
       "3          2              164.0          1     0             0           3   \n",
       "4          2              164.0          1     0             0           3   \n",
       "\n",
       "   wheel_base  engine_location  drive_wheels  body_style  ...  engine_size  \\\n",
       "0           2                0          88.6           0  ...          130   \n",
       "1           2                0          88.6           0  ...          130   \n",
       "2           2                0          94.5           0  ...          152   \n",
       "3           1                0          99.8           1  ...          109   \n",
       "4           0                0          99.4           1  ...          136   \n",
       "\n",
       "   fuel_system  bore  stroke  compression_ratio  horsepower  peak_rpm  \\\n",
       "0            5  3.47    2.68                9.0       111.0    5000.0   \n",
       "1            5  3.47    2.68                9.0       111.0    5000.0   \n",
       "2            5  2.68    3.47                9.0       154.0    5000.0   \n",
       "3            5  3.19    3.40               10.0       102.0    5500.0   \n",
       "4            5  3.19    3.40                8.0       115.0    5500.0   \n",
       "\n",
       "   city_mpg  highway_mpg    price  \n",
       "0        21           27  13495.0  \n",
       "1        21           27  16500.0  \n",
       "2        19           26  16500.0  \n",
       "3        24           30  13950.0  \n",
       "4        18           22  17450.0  \n",
       "\n",
       "[5 rows x 26 columns]"
      ]
     },
     "execution_count": 262,
     "metadata": {},
     "output_type": "execute_result"
    }
   ],
   "source": [
    "car.head()"
   ]
  },
  {
   "cell_type": "markdown",
   "id": "1d3b4360",
   "metadata": {},
   "source": [
    "# Lets Split the Data into Train and Test "
   ]
  },
  {
   "cell_type": "code",
   "execution_count": 263,
   "id": "ff012755",
   "metadata": {},
   "outputs": [],
   "source": [
    "from sklearn.model_selection import train_test_split"
   ]
  },
  {
   "cell_type": "code",
   "execution_count": 264,
   "id": "082ef85d",
   "metadata": {},
   "outputs": [],
   "source": [
    "car_train ,car_test = train_test_split(car,test_size =.2)"
   ]
  },
  {
   "cell_type": "code",
   "execution_count": 265,
   "id": "715b4698",
   "metadata": {},
   "outputs": [],
   "source": [
    "car_train_x = car_train.iloc[:,0:-1]\n",
    "car_train_y = car_train.iloc[:,-1]"
   ]
  },
  {
   "cell_type": "code",
   "execution_count": 266,
   "id": "1cc6918a",
   "metadata": {},
   "outputs": [],
   "source": [
    "car_test_x = car_test.iloc[:,0:-1]\n",
    "car_test_y = car_test.iloc[:,-1]"
   ]
  },
  {
   "cell_type": "markdown",
   "id": "94e9633a",
   "metadata": {},
   "source": [
    "# Lets create a Linear Regression model on the Data "
   ]
  },
  {
   "cell_type": "code",
   "execution_count": 267,
   "id": "261f8df1",
   "metadata": {},
   "outputs": [],
   "source": [
    "from sklearn.linear_model import LinearRegression"
   ]
  },
  {
   "cell_type": "code",
   "execution_count": 268,
   "id": "6825d55c",
   "metadata": {},
   "outputs": [],
   "source": [
    "linreg= LinearRegression()"
   ]
  },
  {
   "cell_type": "code",
   "execution_count": 269,
   "id": "e1973a34",
   "metadata": {},
   "outputs": [
    {
     "data": {
      "text/plain": [
       "LinearRegression()"
      ]
     },
     "execution_count": 269,
     "metadata": {},
     "output_type": "execute_result"
    }
   ],
   "source": [
    "linreg.fit(car_train_x, car_train_y)"
   ]
  },
  {
   "cell_type": "code",
   "execution_count": 270,
   "id": "c969d78a",
   "metadata": {},
   "outputs": [
    {
     "data": {
      "text/plain": [
       "0.9060177940078714"
      ]
     },
     "execution_count": 270,
     "metadata": {},
     "output_type": "execute_result"
    }
   ],
   "source": [
    "Rsquare = linreg.score(car_train_x,car_train_y)\n",
    "Rsquare"
   ]
  },
  {
   "cell_type": "code",
   "execution_count": 271,
   "id": "655eebc0",
   "metadata": {},
   "outputs": [],
   "source": [
    "N= car_train_x.shape[0]\n",
    "K= car_train_x.shape[1]"
   ]
  },
  {
   "cell_type": "code",
   "execution_count": 272,
   "id": "0533a0c3",
   "metadata": {},
   "outputs": [
    {
     "data": {
      "text/plain": [
       "0.8884838003526235"
      ]
     },
     "execution_count": 272,
     "metadata": {},
     "output_type": "execute_result"
    }
   ],
   "source": [
    "Adj_Rsquare = 1-(1-Rsquare)* (N-1)/(N-K-1)\n",
    "Adj_Rsquare"
   ]
  },
  {
   "cell_type": "code",
   "execution_count": 273,
   "id": "51aa2258",
   "metadata": {
    "scrolled": true
   },
   "outputs": [
    {
     "data": {
      "text/plain": [
       "Index(['symboling', 'normalized_losses', 'Fuel_type', 'make', 'num_of_doors',\n",
       "       'aspiration', 'wheel_base', 'engine_location', 'drive_wheels',\n",
       "       'body_style', 'length', 'width', 'height', 'curb_weight', 'engine_type',\n",
       "       'num_of_cylinders', 'engine_size', 'fuel_system', 'bore', 'stroke',\n",
       "       'compression_ratio', 'horsepower', 'peak_rpm', 'city_mpg',\n",
       "       'highway_mpg'],\n",
       "      dtype='object')"
      ]
     },
     "execution_count": 273,
     "metadata": {},
     "output_type": "execute_result"
    }
   ],
   "source": [
    "car_train_x.columns"
   ]
  },
  {
   "cell_type": "code",
   "execution_count": 274,
   "id": "4452467f",
   "metadata": {},
   "outputs": [
    {
     "data": {
      "text/plain": [
       "array([ 1.37218668e+02, -7.00663173e+00,  3.39841076e+03,  2.64174313e+03,\n",
       "        3.34270939e+01, -8.39377917e+02,  7.12955547e+02,  1.19161874e+04,\n",
       "        1.61622398e+02, -2.11260603e+02,  6.55539698e+01,  4.01687141e+02,\n",
       "        2.51275709e+02,  2.72030176e-01,  1.81394740e+01,  1.15842413e+03,\n",
       "        1.39663312e+02,  7.55764387e+01, -8.42821709e+02, -3.43027984e+03,\n",
       "        3.63001407e+02, -2.27962010e+01,  2.00247683e+00, -2.68840115e+01,\n",
       "        4.03262565e+00])"
      ]
     },
     "execution_count": 274,
     "metadata": {},
     "output_type": "execute_result"
    }
   ],
   "source": [
    "linreg.coef_"
   ]
  },
  {
   "cell_type": "code",
   "execution_count": 275,
   "id": "26c095f4",
   "metadata": {},
   "outputs": [
    {
     "data": {
      "text/plain": [
       "-71531.14604997008"
      ]
     },
     "execution_count": 275,
     "metadata": {},
     "output_type": "execute_result"
    }
   ],
   "source": [
    "linreg.intercept_"
   ]
  },
  {
   "cell_type": "code",
   "execution_count": 276,
   "id": "d32e86df",
   "metadata": {},
   "outputs": [],
   "source": [
    "pred_train = linreg.predict(car_train_x)\n",
    "pred_test = linreg.predict(car_test_x)"
   ]
  },
  {
   "cell_type": "code",
   "execution_count": 277,
   "id": "650a8fe5",
   "metadata": {},
   "outputs": [
    {
     "data": {
      "text/plain": [
       "4       3344.052894\n",
       "121     1873.706194\n",
       "110    -8166.009837\n",
       "108    -6959.824099\n",
       "49    -10226.623998\n",
       "112    -3274.785758\n",
       "199     4025.749554\n",
       "114    -4965.971496\n",
       "183      -60.222704\n",
       "201      300.490380\n",
       "68      2760.827207\n",
       "78       387.067466\n",
       "169    -2429.723965\n",
       "72      6480.410235\n",
       "166      481.901422\n",
       "106    -2302.992193\n",
       "177     2255.677255\n",
       "19     -1704.028961\n",
       "192     3156.704217\n",
       "83         3.967326\n",
       "91       291.442901\n",
       "88      1658.854530\n",
       "168    -3615.021429\n",
       "93      1590.308178\n",
       "170    -2093.921745\n",
       "125     6648.639724\n",
       "130      169.239633\n",
       "160     2718.216746\n",
       "145     1161.247669\n",
       "100      -50.042755\n",
       "37     -3117.907856\n",
       "54       997.409248\n",
       "141    -1353.077453\n",
       "98       725.914876\n",
       "7         17.331945\n",
       "66      4134.109841\n",
       "198     3353.908427\n",
       "142       -6.733623\n",
       "96      1118.412605\n",
       "52       -63.589609\n",
       "30      3184.422674\n",
       "Name: price, dtype: float64"
      ]
     },
     "execution_count": 277,
     "metadata": {},
     "output_type": "execute_result"
    }
   ],
   "source": [
    "err_test= car_test_y - pred_test\n",
    "err_test"
   ]
  },
  {
   "cell_type": "code",
   "execution_count": 278,
   "id": "d9ccadf9",
   "metadata": {},
   "outputs": [
    {
     "data": {
      "text/plain": [
       "12045133.1677506"
      ]
     },
     "execution_count": 278,
     "metadata": {},
     "output_type": "execute_result"
    }
   ],
   "source": [
    "mse = np.mean(np.square(err_test))\n",
    "mse"
   ]
  },
  {
   "cell_type": "code",
   "execution_count": 279,
   "id": "9649d5b1",
   "metadata": {},
   "outputs": [
    {
     "data": {
      "text/plain": [
       "3470.609912933259"
      ]
     },
     "execution_count": 279,
     "metadata": {},
     "output_type": "execute_result"
    }
   ],
   "source": [
    "rmse= np.sqrt(mse)\n",
    "rmse"
   ]
  },
  {
   "cell_type": "code",
   "execution_count": 280,
   "id": "d9c6f0d8",
   "metadata": {},
   "outputs": [
    {
     "data": {
      "text/plain": [
       "18.778895732175062"
      ]
     },
     "execution_count": 280,
     "metadata": {},
     "output_type": "execute_result"
    }
   ],
   "source": [
    "mape= np.mean(np.abs(err_test*100/ car_test_y))\n",
    "mape"
   ]
  },
  {
   "cell_type": "code",
   "execution_count": 281,
   "id": "95ccbd97",
   "metadata": {},
   "outputs": [
    {
     "data": {
      "text/plain": [
       "Index(['symboling', 'normalized_losses', 'Fuel_type', 'make', 'num_of_doors',\n",
       "       'aspiration', 'wheel_base', 'engine_location', 'drive_wheels',\n",
       "       'body_style', 'length', 'width', 'height', 'curb_weight', 'engine_type',\n",
       "       'num_of_cylinders', 'engine_size', 'fuel_system', 'bore', 'stroke',\n",
       "       'compression_ratio', 'horsepower', 'peak_rpm', 'city_mpg',\n",
       "       'highway_mpg', 'price'],\n",
       "      dtype='object')"
      ]
     },
     "execution_count": 281,
     "metadata": {},
     "output_type": "execute_result"
    }
   ],
   "source": [
    "car.columns"
   ]
  },
  {
   "cell_type": "code",
   "execution_count": 282,
   "id": "3261ffb6",
   "metadata": {},
   "outputs": [],
   "source": [
    "import seaborn as sns \n",
    "%matplotlib inline"
   ]
  },
  {
   "cell_type": "code",
   "execution_count": 283,
   "id": "c9f07fde",
   "metadata": {},
   "outputs": [
    {
     "name": "stderr",
     "output_type": "stream",
     "text": [
      "C:\\Users\\karti\\anaconda3\\lib\\site-packages\\seaborn\\axisgrid.py:2076: UserWarning: The `size` parameter has been renamed to `height`; please update your code.\n",
      "  warnings.warn(msg, UserWarning)\n"
     ]
    },
    {
     "data": {
      "text/plain": [
       "<seaborn.axisgrid.PairGrid at 0x249efda6400>"
      ]
     },
     "execution_count": 283,
     "metadata": {},
     "output_type": "execute_result"
    },
    {
     "data": {
      "image/png": "[encoded data removed]",
      "text/plain": [
       "<Figure size 2016x504 with 4 Axes>"
      ]
     },
     "metadata": {
      "needs_background": "light"
     },
     "output_type": "display_data"
    }
   ],
   "source": [
    "sns.pairplot(car,x_vars=['engine_size','normalized_losses','num_of_cylinders','highway_mpg'], y_vars ='price', size =7 , aspect = 1, kind= 'reg')\n",
    "# compare the x veriable with y veriable price "
   ]
  },
  {
   "cell_type": "code",
   "execution_count": 284,
   "id": "8500e270",
   "metadata": {},
   "outputs": [],
   "source": [
    "err_train = car_train_y - pred_train"
   ]
  },
  {
   "cell_type": "code",
   "execution_count": 285,
   "id": "b9a0381d",
   "metadata": {},
   "outputs": [
    {
     "data": {
      "text/plain": [
       "-6.5483618527650835e-12"
      ]
     },
     "execution_count": 285,
     "metadata": {},
     "output_type": "execute_result"
    }
   ],
   "source": [
    "np.mean(err_train)"
   ]
  },
  {
   "cell_type": "code",
   "execution_count": null,
   "id": "15e94e56",
   "metadata": {},
   "outputs": [],
   "source": []
  },
  {
   "cell_type": "code",
   "execution_count": 286,
   "id": "12c4ed29",
   "metadata": {},
   "outputs": [
    {
     "data": {
      "text/plain": [
       "[<matplotlib.lines.Line2D at 0x249f13eb610>]"
      ]
     },
     "execution_count": 286,
     "metadata": {},
     "output_type": "execute_result"
    },
    {
     "data": {
      "image/png": "[encoded data removed]",
      "text/plain": [
       "<Figure size 432x288 with 1 Axes>"
      ]
     },
     "metadata": {
      "needs_background": "light"
     },
     "output_type": "display_data"
    }
   ],
   "source": [
    "plt.plot(err_train, '*')"
   ]
  },
  {
   "cell_type": "code",
   "execution_count": 287,
   "id": "b949574e",
   "metadata": {},
   "outputs": [
    {
     "data": {
      "text/plain": [
       "(array([ 2.,  1.,  0.,  0.,  2.,  2.,  7.,  8., 18., 16., 14., 26., 15.,\n",
       "        15., 14., 11.,  4.,  2.,  1.,  1.,  0.,  0.,  0.,  0.,  0.,  0.,\n",
       "         0.,  0.,  0.,  1.]),\n",
       " array([-7891.06081951, -7193.4386061 , -6495.81639269, -5798.19417928,\n",
       "        -5100.57196586, -4402.94975245, -3705.32753904, -3007.70532562,\n",
       "        -2310.08311221, -1612.4608988 ,  -914.83868538,  -217.21647197,\n",
       "          480.40574144,  1178.02795486,  1875.65016827,  2573.27238168,\n",
       "         3270.89459509,  3968.51680851,  4666.13902192,  5363.76123533,\n",
       "         6061.38344875,  6759.00566216,  7456.62787557,  8154.25008899,\n",
       "         8851.8723024 ,  9549.49451581, 10247.11672922, 10944.73894264,\n",
       "        11642.36115605, 12339.98336946, 13037.60558288]),\n",
       " <BarContainer object of 30 artists>)"
      ]
     },
     "execution_count": 287,
     "metadata": {},
     "output_type": "execute_result"
    },
    {
     "data": {
      "image/png": "[encoded data removed]",
      "text/plain": [
       "<Figure size 432x288 with 1 Axes>"
      ]
     },
     "metadata": {
      "needs_background": "light"
     },
     "output_type": "display_data"
    }
   ],
   "source": [
    "plt.hist(err_train, bins =30 ,edgecolor ='r')"
   ]
  },
  {
   "cell_type": "code",
   "execution_count": 288,
   "id": "0c5cacc3",
   "metadata": {},
   "outputs": [],
   "source": [
    "pred_actual_df = pd.DataFrame()"
   ]
  },
  {
   "cell_type": "code",
   "execution_count": 289,
   "id": "b3cbbf11",
   "metadata": {},
   "outputs": [],
   "source": [
    "pred_actual_df['Actual']= car_train_y   # it is used to create the column\n",
    "pred_actual_df['predict']= pred_train "
   ]
  },
  {
   "cell_type": "code",
   "execution_count": 290,
   "id": "7b853edb",
   "metadata": {},
   "outputs": [
    {
     "data": {
      "text/html": [
       "<div>\n",
       "<style scoped>\n",
       "    .dataframe tbody tr th:only-of-type {\n",
       "        vertical-align: middle;\n",
       "    }\n",
       "\n",
       "    .dataframe tbody tr th {\n",
       "        vertical-align: top;\n",
       "    }\n",
       "\n",
       "    .dataframe thead th {\n",
       "        text-align: right;\n",
       "    }\n",
       "</style>\n",
       "<table border=\"1\" class=\"dataframe\">\n",
       "  <thead>\n",
       "    <tr style=\"text-align: right;\">\n",
       "      <th></th>\n",
       "      <th>Actual</th>\n",
       "      <th>predict</th>\n",
       "    </tr>\n",
       "  </thead>\n",
       "  <tbody>\n",
       "    <tr>\n",
       "      <th>159</th>\n",
       "      <td>7788.0</td>\n",
       "      <td>7740.652825</td>\n",
       "    </tr>\n",
       "    <tr>\n",
       "      <th>191</th>\n",
       "      <td>13295.0</td>\n",
       "      <td>11856.595256</td>\n",
       "    </tr>\n",
       "    <tr>\n",
       "      <th>146</th>\n",
       "      <td>7463.0</td>\n",
       "      <td>7867.746667</td>\n",
       "    </tr>\n",
       "    <tr>\n",
       "      <th>186</th>\n",
       "      <td>8495.0</td>\n",
       "      <td>8215.935291</td>\n",
       "    </tr>\n",
       "    <tr>\n",
       "      <th>102</th>\n",
       "      <td>14399.0</td>\n",
       "      <td>20907.827879</td>\n",
       "    </tr>\n",
       "  </tbody>\n",
       "</table>\n",
       "</div>"
      ],
      "text/plain": [
       "      Actual       predict\n",
       "159   7788.0   7740.652825\n",
       "191  13295.0  11856.595256\n",
       "146   7463.0   7867.746667\n",
       "186   8495.0   8215.935291\n",
       "102  14399.0  20907.827879"
      ]
     },
     "execution_count": 290,
     "metadata": {},
     "output_type": "execute_result"
    }
   ],
   "source": [
    "pred_actual_df.head()"
   ]
  },
  {
   "cell_type": "code",
   "execution_count": 291,
   "id": "b8cb472b",
   "metadata": {},
   "outputs": [
    {
     "data": {
      "text/plain": [
       "<seaborn.axisgrid.JointGrid at 0x249f14a4c10>"
      ]
     },
     "execution_count": 291,
     "metadata": {},
     "output_type": "execute_result"
    },
    {
     "data": {
      "image/png": "[encoded data removed]",
      "text/plain": [
       "<Figure size 432x432 with 3 Axes>"
      ]
     },
     "metadata": {
      "needs_background": "light"
     },
     "output_type": "display_data"
    }
   ],
   "source": [
    "sns.jointplot(x= 'Actual', y = 'predict', data = pred_actual_df , kind= 'reg')"
   ]
  },
  {
   "cell_type": "code",
   "execution_count": 292,
   "id": "42ce604c",
   "metadata": {},
   "outputs": [],
   "source": [
    "def remove_outliers(car, col, k):   # all the steps are explain in the book\n",
    "    mean = car[col].mean()\n",
    "    sd = car[col].std()\n",
    "    final_list = [ x for x in car[col] if (x > mean -k * sd)]  \n",
    "    final_list = [ x for x in final_list if ( x < mean + k * sd)]\n",
    "    df1 = car.loc[car[col].isin(final_list)]; print (df1.shape )\n",
    "    print(\"Number of outliers removed ==>\", car.shape[0] - df1.shape[0])"
   ]
  },
  {
   "cell_type": "code",
   "execution_count": 293,
   "id": "78c5c1e7",
   "metadata": {},
   "outputs": [
    {
     "name": "stdout",
     "output_type": "stream",
     "text": [
      "(187, 26)\n",
      "Number of outliers removed ==> 14\n"
     ]
    }
   ],
   "source": [
    "remove_outliers(car,'price', 2)"
   ]
  },
  {
   "cell_type": "markdown",
   "id": "83be946e",
   "metadata": {},
   "source": [
    "# linear regression model on Lasso"
   ]
  },
  {
   "cell_type": "code",
   "execution_count": 294,
   "id": "5982ecd2",
   "metadata": {},
   "outputs": [],
   "source": [
    "from sklearn. linear_model import Lasso\n",
    "lasreg = Lasso()"
   ]
  },
  {
   "cell_type": "code",
   "execution_count": 295,
   "id": "da959137",
   "metadata": {},
   "outputs": [
    {
     "data": {
      "text/plain": [
       "Lasso()"
      ]
     },
     "execution_count": 295,
     "metadata": {},
     "output_type": "execute_result"
    }
   ],
   "source": [
    "lasreg.fit(car_train_x, car_train_y)"
   ]
  },
  {
   "cell_type": "code",
   "execution_count": 296,
   "id": "f11cadf4",
   "metadata": {},
   "outputs": [
    {
     "data": {
      "text/plain": [
       "0.9059872570468744"
      ]
     },
     "execution_count": 296,
     "metadata": {},
     "output_type": "execute_result"
    }
   ],
   "source": [
    "lasreg.score(car_train_x, car_train_y)"
   ]
  },
  {
   "cell_type": "code",
   "execution_count": 297,
   "id": "a80bd2fe",
   "metadata": {},
   "outputs": [],
   "source": [
    "pred_train_las = lasreg.predict(car_train_x)\n",
    "pred_test_las = lasreg.predict(car_test_x)"
   ]
  },
  {
   "cell_type": "code",
   "execution_count": 298,
   "id": "58eef541",
   "metadata": {},
   "outputs": [],
   "source": [
    "err_train_las = car_train_y  - pred_train_las\n",
    "err_test_las = car_test_y - pred_test_las"
   ]
  },
  {
   "cell_type": "code",
   "execution_count": 299,
   "id": "52150d69",
   "metadata": {},
   "outputs": [],
   "source": [
    "mse_train_las = np.mean(np.square (err_train_las))\n",
    "mse_test_las = np.mean(np.square (err_test_las))"
   ]
  },
  {
   "cell_type": "code",
   "execution_count": 300,
   "id": "19793c2e",
   "metadata": {},
   "outputs": [
    {
     "data": {
      "text/plain": [
       "6150813.026312928"
      ]
     },
     "execution_count": 300,
     "metadata": {},
     "output_type": "execute_result"
    }
   ],
   "source": [
    "mse_train_las"
   ]
  },
  {
   "cell_type": "code",
   "execution_count": 301,
   "id": "77200ea5",
   "metadata": {},
   "outputs": [
    {
     "data": {
      "text/plain": [
       "11880948.702977773"
      ]
     },
     "execution_count": 301,
     "metadata": {},
     "output_type": "execute_result"
    }
   ],
   "source": [
    "mse_test_las"
   ]
  },
  {
   "cell_type": "code",
   "execution_count": 302,
   "id": "802aab48",
   "metadata": {},
   "outputs": [
    {
     "data": {
      "text/plain": [
       "15.576958136524084"
      ]
     },
     "execution_count": 302,
     "metadata": {},
     "output_type": "execute_result"
    }
   ],
   "source": [
    "mape_train = np.mean(np.absolute(err_train_las* 100/ car_train_y))\n",
    "mape_train"
   ]
  },
  {
   "cell_type": "code",
   "execution_count": 303,
   "id": "1be034d5",
   "metadata": {},
   "outputs": [
    {
     "data": {
      "text/plain": [
       "18.74676274144015"
      ]
     },
     "execution_count": 303,
     "metadata": {},
     "output_type": "execute_result"
    }
   ],
   "source": [
    "mape_test = np.mean(np.absolute(err_test_las* 100/ car_test_y))\n",
    "mape_test"
   ]
  },
  {
   "cell_type": "markdown",
   "id": "d4a0a805",
   "metadata": {},
   "source": [
    "# linear regression model on ridge"
   ]
  },
  {
   "cell_type": "code",
   "execution_count": 304,
   "id": "a1d5ec8a",
   "metadata": {},
   "outputs": [],
   "source": [
    "from sklearn.linear_model import Ridge"
   ]
  },
  {
   "cell_type": "code",
   "execution_count": 305,
   "id": "dd1969fe",
   "metadata": {},
   "outputs": [],
   "source": [
    "rid_reg = Ridge()"
   ]
  },
  {
   "cell_type": "code",
   "execution_count": 306,
   "id": "345ca2a9",
   "metadata": {},
   "outputs": [
    {
     "data": {
      "text/plain": [
       "Ridge()"
      ]
     },
     "execution_count": 306,
     "metadata": {},
     "output_type": "execute_result"
    }
   ],
   "source": [
    "rid_reg.fit(car_train_x, car_train_y)"
   ]
  },
  {
   "cell_type": "code",
   "execution_count": 307,
   "id": "d2565203",
   "metadata": {},
   "outputs": [
    {
     "data": {
      "text/plain": [
       "0.9024281337828577"
      ]
     },
     "execution_count": 307,
     "metadata": {},
     "output_type": "execute_result"
    }
   ],
   "source": [
    "rid_reg.score(car_train_x, car_train_y)"
   ]
  },
  {
   "cell_type": "code",
   "execution_count": 308,
   "id": "1b972adf",
   "metadata": {},
   "outputs": [],
   "source": [
    "pred_train_rig = rid_reg.predict(car_train_x)\n",
    "pred_test_rig = rid_reg.predict(car_test_x)"
   ]
  },
  {
   "cell_type": "code",
   "execution_count": 309,
   "id": "3f6c4f2f",
   "metadata": {},
   "outputs": [],
   "source": [
    "err_train_rig = car_train_y  - pred_train_rig\n",
    "err_test_rig = car_test_y - pred_test_rig"
   ]
  },
  {
   "cell_type": "code",
   "execution_count": 310,
   "id": "b06c8f80",
   "metadata": {},
   "outputs": [],
   "source": [
    "mse_train_reg = np.mean(np.square (err_train_rig))\n",
    "mse_test_reg = np.mean(np.square (err_test_rig))"
   ]
  },
  {
   "cell_type": "code",
   "execution_count": 311,
   "id": "98cfd647",
   "metadata": {},
   "outputs": [
    {
     "data": {
      "text/plain": [
       "6383669.775801485"
      ]
     },
     "execution_count": 311,
     "metadata": {},
     "output_type": "execute_result"
    }
   ],
   "source": [
    "mse_train_reg"
   ]
  },
  {
   "cell_type": "code",
   "execution_count": 312,
   "id": "0aa47894",
   "metadata": {},
   "outputs": [
    {
     "data": {
      "text/plain": [
       "11226742.619767869"
      ]
     },
     "execution_count": 312,
     "metadata": {},
     "output_type": "execute_result"
    }
   ],
   "source": [
    "mse_test_reg"
   ]
  },
  {
   "cell_type": "code",
   "execution_count": 313,
   "id": "0293302b",
   "metadata": {},
   "outputs": [],
   "source": [
    "mape_train_rig = np.mean(np.absolute(err_train_rig* 100/ car_train_y))\n",
    "mape_test_rig = np.mean(np.absolute(err_test_rig* 100/ car_test_y))"
   ]
  },
  {
   "cell_type": "code",
   "execution_count": 314,
   "id": "2f9068fa",
   "metadata": {},
   "outputs": [
    {
     "data": {
      "text/plain": [
       "15.908886395809603"
      ]
     },
     "execution_count": 314,
     "metadata": {},
     "output_type": "execute_result"
    }
   ],
   "source": [
    "mape_train_rig"
   ]
  },
  {
   "cell_type": "code",
   "execution_count": 315,
   "id": "2ad85381",
   "metadata": {},
   "outputs": [
    {
     "data": {
      "text/plain": [
       "18.983361806888297"
      ]
     },
     "execution_count": 315,
     "metadata": {},
     "output_type": "execute_result"
    }
   ],
   "source": [
    "mape_train_rig = np.mean(np.absolute(err_train_rig* 100/ car_train_y))\n",
    "mape_test_rig "
   ]
  },
  {
   "cell_type": "markdown",
   "id": "f7217590",
   "metadata": {},
   "source": [
    "# compare  the coef of the 3 different models"
   ]
  },
  {
   "cell_type": "code",
   "execution_count": 316,
   "id": "e051c410",
   "metadata": {},
   "outputs": [],
   "source": [
    "car_coef = pd.DataFrame()"
   ]
  },
  {
   "cell_type": "code",
   "execution_count": 317,
   "id": "a2d46a6e",
   "metadata": {},
   "outputs": [],
   "source": [
    "car_coef['lin'] =linreg.coef_\n",
    "car_coef['rid'] =rid_reg.coef_\n",
    "car_coef['las'] =lasreg.coef_"
   ]
  },
  {
   "cell_type": "code",
   "execution_count": 318,
   "id": "81803e7f",
   "metadata": {},
   "outputs": [
    {
     "data": {
      "text/html": [
       "<div>\n",
       "<style scoped>\n",
       "    .dataframe tbody tr th:only-of-type {\n",
       "        vertical-align: middle;\n",
       "    }\n",
       "\n",
       "    .dataframe tbody tr th {\n",
       "        vertical-align: top;\n",
       "    }\n",
       "\n",
       "    .dataframe thead th {\n",
       "        text-align: right;\n",
       "    }\n",
       "</style>\n",
       "<table border=\"1\" class=\"dataframe\">\n",
       "  <thead>\n",
       "    <tr style=\"text-align: right;\">\n",
       "      <th></th>\n",
       "      <th>lin</th>\n",
       "      <th>rid</th>\n",
       "      <th>las</th>\n",
       "    </tr>\n",
       "  </thead>\n",
       "  <tbody>\n",
       "    <tr>\n",
       "      <th>0</th>\n",
       "      <td>137.218668</td>\n",
       "      <td>157.009751</td>\n",
       "      <td>141.755103</td>\n",
       "    </tr>\n",
       "    <tr>\n",
       "      <th>1</th>\n",
       "      <td>-7.006632</td>\n",
       "      <td>-7.945404</td>\n",
       "      <td>-7.124527</td>\n",
       "    </tr>\n",
       "    <tr>\n",
       "      <th>2</th>\n",
       "      <td>3398.410760</td>\n",
       "      <td>310.964128</td>\n",
       "      <td>1839.604086</td>\n",
       "    </tr>\n",
       "    <tr>\n",
       "      <th>3</th>\n",
       "      <td>2641.743134</td>\n",
       "      <td>1686.168854</td>\n",
       "      <td>2480.746990</td>\n",
       "    </tr>\n",
       "    <tr>\n",
       "      <th>4</th>\n",
       "      <td>33.427094</td>\n",
       "      <td>-182.566965</td>\n",
       "      <td>5.526788</td>\n",
       "    </tr>\n",
       "    <tr>\n",
       "      <th>5</th>\n",
       "      <td>-839.377917</td>\n",
       "      <td>-969.280247</td>\n",
       "      <td>-850.435346</td>\n",
       "    </tr>\n",
       "    <tr>\n",
       "      <th>6</th>\n",
       "      <td>712.955547</td>\n",
       "      <td>786.827690</td>\n",
       "      <td>723.171025</td>\n",
       "    </tr>\n",
       "    <tr>\n",
       "      <th>7</th>\n",
       "      <td>11916.187433</td>\n",
       "      <td>6859.432600</td>\n",
       "      <td>11786.923949</td>\n",
       "    </tr>\n",
       "    <tr>\n",
       "      <th>8</th>\n",
       "      <td>161.622398</td>\n",
       "      <td>158.739369</td>\n",
       "      <td>161.028517</td>\n",
       "    </tr>\n",
       "    <tr>\n",
       "      <th>9</th>\n",
       "      <td>-211.260603</td>\n",
       "      <td>-197.132864</td>\n",
       "      <td>-209.338181</td>\n",
       "    </tr>\n",
       "    <tr>\n",
       "      <th>10</th>\n",
       "      <td>65.553970</td>\n",
       "      <td>49.339705</td>\n",
       "      <td>66.402019</td>\n",
       "    </tr>\n",
       "    <tr>\n",
       "      <th>11</th>\n",
       "      <td>401.687141</td>\n",
       "      <td>327.510288</td>\n",
       "      <td>399.029160</td>\n",
       "    </tr>\n",
       "    <tr>\n",
       "      <th>12</th>\n",
       "      <td>251.275709</td>\n",
       "      <td>282.491661</td>\n",
       "      <td>251.334889</td>\n",
       "    </tr>\n",
       "    <tr>\n",
       "      <th>13</th>\n",
       "      <td>0.272030</td>\n",
       "      <td>0.078971</td>\n",
       "      <td>0.262411</td>\n",
       "    </tr>\n",
       "    <tr>\n",
       "      <th>14</th>\n",
       "      <td>18.139474</td>\n",
       "      <td>62.574898</td>\n",
       "      <td>19.803497</td>\n",
       "    </tr>\n",
       "    <tr>\n",
       "      <th>15</th>\n",
       "      <td>1158.424135</td>\n",
       "      <td>913.927035</td>\n",
       "      <td>1150.302666</td>\n",
       "    </tr>\n",
       "    <tr>\n",
       "      <th>16</th>\n",
       "      <td>139.663312</td>\n",
       "      <td>130.068731</td>\n",
       "      <td>138.268431</td>\n",
       "    </tr>\n",
       "    <tr>\n",
       "      <th>17</th>\n",
       "      <td>75.576439</td>\n",
       "      <td>-2.509838</td>\n",
       "      <td>68.566116</td>\n",
       "    </tr>\n",
       "    <tr>\n",
       "      <th>18</th>\n",
       "      <td>-842.821709</td>\n",
       "      <td>-373.236550</td>\n",
       "      <td>-832.755344</td>\n",
       "    </tr>\n",
       "    <tr>\n",
       "      <th>19</th>\n",
       "      <td>-3430.279836</td>\n",
       "      <td>-3400.308931</td>\n",
       "      <td>-3442.792073</td>\n",
       "    </tr>\n",
       "    <tr>\n",
       "      <th>20</th>\n",
       "      <td>363.001407</td>\n",
       "      <td>222.756597</td>\n",
       "      <td>255.428792</td>\n",
       "    </tr>\n",
       "    <tr>\n",
       "      <th>21</th>\n",
       "      <td>-22.796201</td>\n",
       "      <td>5.775487</td>\n",
       "      <td>-20.619134</td>\n",
       "    </tr>\n",
       "    <tr>\n",
       "      <th>22</th>\n",
       "      <td>2.002477</td>\n",
       "      <td>2.138530</td>\n",
       "      <td>2.029234</td>\n",
       "    </tr>\n",
       "    <tr>\n",
       "      <th>23</th>\n",
       "      <td>-26.884011</td>\n",
       "      <td>-64.391658</td>\n",
       "      <td>-18.746303</td>\n",
       "    </tr>\n",
       "    <tr>\n",
       "      <th>24</th>\n",
       "      <td>4.032626</td>\n",
       "      <td>41.633340</td>\n",
       "      <td>0.000000</td>\n",
       "    </tr>\n",
       "  </tbody>\n",
       "</table>\n",
       "</div>"
      ],
      "text/plain": [
       "             lin          rid           las\n",
       "0     137.218668   157.009751    141.755103\n",
       "1      -7.006632    -7.945404     -7.124527\n",
       "2    3398.410760   310.964128   1839.604086\n",
       "3    2641.743134  1686.168854   2480.746990\n",
       "4      33.427094  -182.566965      5.526788\n",
       "5    -839.377917  -969.280247   -850.435346\n",
       "6     712.955547   786.827690    723.171025\n",
       "7   11916.187433  6859.432600  11786.923949\n",
       "8     161.622398   158.739369    161.028517\n",
       "9    -211.260603  -197.132864   -209.338181\n",
       "10     65.553970    49.339705     66.402019\n",
       "11    401.687141   327.510288    399.029160\n",
       "12    251.275709   282.491661    251.334889\n",
       "13      0.272030     0.078971      0.262411\n",
       "14     18.139474    62.574898     19.803497\n",
       "15   1158.424135   913.927035   1150.302666\n",
       "16    139.663312   130.068731    138.268431\n",
       "17     75.576439    -2.509838     68.566116\n",
       "18   -842.821709  -373.236550   -832.755344\n",
       "19  -3430.279836 -3400.308931  -3442.792073\n",
       "20    363.001407   222.756597    255.428792\n",
       "21    -22.796201     5.775487    -20.619134\n",
       "22      2.002477     2.138530      2.029234\n",
       "23    -26.884011   -64.391658    -18.746303\n",
       "24      4.032626    41.633340      0.000000"
      ]
     },
     "execution_count": 318,
     "metadata": {},
     "output_type": "execute_result"
    }
   ],
   "source": [
    "car_coef"
   ]
  },
  {
   "cell_type": "code",
   "execution_count": 319,
   "id": "1b9dcbf8",
   "metadata": {},
   "outputs": [
    {
     "data": {
      "text/plain": [
       "(1, 3)"
      ]
     },
     "execution_count": 319,
     "metadata": {},
     "output_type": "execute_result"
    }
   ],
   "source": [
    "car_coef[car_coef['las']==0].shape"
   ]
  },
  {
   "cell_type": "code",
   "execution_count": 320,
   "id": "bba8ee8f",
   "metadata": {},
   "outputs": [
    {
     "data": {
      "text/plain": [
       "(25, 3)"
      ]
     },
     "execution_count": 320,
     "metadata": {},
     "output_type": "execute_result"
    }
   ],
   "source": [
    "car_coef.shape"
   ]
  },
  {
   "cell_type": "markdown",
   "id": "8f6a84cf",
   "metadata": {},
   "source": [
    "# Observation\n",
    "1. From the above obeservation we can say that all three model are same according to the accuracy score.\n",
    "2. But on the basis of mean absulate percentage error (MAPE) the lasso model is better than any other.\n",
    "3. Because lasso model have 90% of accuracy and 15% of of mape.\n"
   ]
  },
  {
   "cell_type": "code",
   "execution_count": 321,
   "id": "6bad1f36",
   "metadata": {},
   "outputs": [],
   "source": [
    "from sklearn import preprocessing\n",
    "\n",
    "\n",
    "car_train_x = preprocessing.scale(car_train_x)\n",
    "car_test_x = preprocessing.scale(car_test_x)"
   ]
  },
  {
   "cell_type": "code",
   "execution_count": 322,
   "id": "63bbb3eb",
   "metadata": {},
   "outputs": [],
   "source": [
    "from sklearn.linear_model import SGDRegressor\n",
    "sgd_model = SGDRegressor(verbose=1)"
   ]
  },
  {
   "cell_type": "code",
   "execution_count": 323,
   "id": "7ca61601",
   "metadata": {},
   "outputs": [
    {
     "name": "stdout",
     "output_type": "stream",
     "text": [
      "-- Epoch 1\n",
      "Norm: 2954.94, NNZs: 25, Bias: 6140.782233, T: 160, Avg. loss: 61863951.955115\n",
      "Total training time: 0.00 seconds.\n",
      "-- Epoch 2\n",
      "Norm: 3100.37, NNZs: 25, Bias: 8562.716223, T: 320, Avg. loss: 22653540.146312\n",
      "Total training time: 0.00 seconds.\n",
      "-- Epoch 3\n",
      "Norm: 3519.28, NNZs: 25, Bias: 9986.687027, T: 480, Avg. loss: 12557020.835352\n",
      "Total training time: 0.00 seconds.\n",
      "-- Epoch 4\n",
      "Norm: 3708.43, NNZs: 25, Bias: 10919.943414, T: 640, Avg. loss: 8190146.752660\n",
      "Total training time: 0.00 seconds.\n",
      "-- Epoch 5\n",
      "Norm: 3659.29, NNZs: 25, Bias: 11537.282143, T: 800, Avg. loss: 5926927.434795\n",
      "Total training time: 0.00 seconds.\n",
      "-- Epoch 6\n",
      "Norm: 3858.28, NNZs: 25, Bias: 11968.114532, T: 960, Avg. loss: 5044361.879357\n",
      "Total training time: 0.00 seconds.\n",
      "-- Epoch 7\n",
      "Norm: 3931.60, NNZs: 25, Bias: 12283.776782, T: 1120, Avg. loss: 4406731.739558\n",
      "Total training time: 0.00 seconds.\n",
      "-- Epoch 8\n",
      "Norm: 4072.66, NNZs: 25, Bias: 12515.612170, T: 1280, Avg. loss: 4047021.164800\n",
      "Total training time: 0.00 seconds.\n",
      "-- Epoch 9\n",
      "Norm: 4108.19, NNZs: 25, Bias: 12678.584814, T: 1440, Avg. loss: 3872025.478403\n",
      "Total training time: 0.00 seconds.\n",
      "-- Epoch 10\n",
      "Norm: 4159.43, NNZs: 25, Bias: 12800.891098, T: 1600, Avg. loss: 3741100.696114\n",
      "Total training time: 0.00 seconds.\n",
      "-- Epoch 11\n",
      "Norm: 4135.27, NNZs: 25, Bias: 12896.488729, T: 1760, Avg. loss: 3678397.260859\n",
      "Total training time: 0.00 seconds.\n",
      "-- Epoch 12\n",
      "Norm: 4180.03, NNZs: 25, Bias: 12966.235054, T: 1920, Avg. loss: 3630547.474910\n",
      "Total training time: 0.00 seconds.\n",
      "-- Epoch 13\n",
      "Norm: 4223.03, NNZs: 25, Bias: 13023.969913, T: 2080, Avg. loss: 3595268.965851\n",
      "Total training time: 0.00 seconds.\n",
      "-- Epoch 14\n",
      "Norm: 4254.83, NNZs: 25, Bias: 13069.762560, T: 2240, Avg. loss: 3560732.344866\n",
      "Total training time: 0.00 seconds.\n",
      "-- Epoch 15\n",
      "Norm: 4303.02, NNZs: 25, Bias: 13099.263169, T: 2400, Avg. loss: 3535272.060356\n",
      "Total training time: 0.00 seconds.\n",
      "-- Epoch 16\n",
      "Norm: 4292.43, NNZs: 25, Bias: 13124.582438, T: 2560, Avg. loss: 3521434.297006\n",
      "Total training time: 0.00 seconds.\n",
      "-- Epoch 17\n",
      "Norm: 4315.26, NNZs: 25, Bias: 13145.958093, T: 2720, Avg. loss: 3492682.264884\n",
      "Total training time: 0.00 seconds.\n",
      "-- Epoch 18\n",
      "Norm: 4341.12, NNZs: 25, Bias: 13160.478504, T: 2880, Avg. loss: 3492974.545317\n",
      "Total training time: 0.00 seconds.\n",
      "-- Epoch 19\n",
      "Norm: 4391.54, NNZs: 25, Bias: 13177.459885, T: 3040, Avg. loss: 3466428.461431\n",
      "Total training time: 0.00 seconds.\n",
      "-- Epoch 20\n",
      "Norm: 4383.28, NNZs: 25, Bias: 13187.168316, T: 3200, Avg. loss: 3465513.725580\n",
      "Total training time: 0.00 seconds.\n",
      "-- Epoch 21\n",
      "Norm: 4366.24, NNZs: 25, Bias: 13189.692990, T: 3360, Avg. loss: 3438945.831468\n",
      "Total training time: 0.00 seconds.\n",
      "-- Epoch 22\n",
      "Norm: 4390.59, NNZs: 25, Bias: 13191.668388, T: 3520, Avg. loss: 3450928.407625\n",
      "Total training time: 0.00 seconds.\n",
      "-- Epoch 23\n",
      "Norm: 4452.94, NNZs: 25, Bias: 13197.722906, T: 3680, Avg. loss: 3433412.821243\n",
      "Total training time: 0.00 seconds.\n",
      "-- Epoch 24\n",
      "Norm: 4438.06, NNZs: 25, Bias: 13205.805625, T: 3840, Avg. loss: 3413524.715518\n",
      "Total training time: 0.01 seconds.\n",
      "-- Epoch 25\n",
      "Norm: 4510.96, NNZs: 25, Bias: 13212.366677, T: 4000, Avg. loss: 3393950.491714\n",
      "Total training time: 0.01 seconds.\n",
      "-- Epoch 26\n",
      "Norm: 4465.99, NNZs: 25, Bias: 13213.963038, T: 4160, Avg. loss: 3406646.913596\n",
      "Total training time: 0.01 seconds.\n",
      "-- Epoch 27\n",
      "Norm: 4484.56, NNZs: 25, Bias: 13214.069917, T: 4320, Avg. loss: 3410260.299705\n",
      "Total training time: 0.01 seconds.\n",
      "-- Epoch 28\n",
      "Norm: 4524.72, NNZs: 25, Bias: 13216.786174, T: 4480, Avg. loss: 3396418.426068\n",
      "Total training time: 0.01 seconds.\n",
      "-- Epoch 29\n",
      "Norm: 4529.32, NNZs: 25, Bias: 13215.881542, T: 4640, Avg. loss: 3392830.680861\n",
      "Total training time: 0.01 seconds.\n",
      "-- Epoch 30\n",
      "Norm: 4538.15, NNZs: 25, Bias: 13217.204524, T: 4800, Avg. loss: 3396500.166893\n",
      "Total training time: 0.01 seconds.\n",
      "-- Epoch 31\n",
      "Norm: 4553.22, NNZs: 25, Bias: 13217.358374, T: 4960, Avg. loss: 3389793.222154\n",
      "Total training time: 0.01 seconds.\n",
      "-- Epoch 32\n",
      "Norm: 4545.15, NNZs: 25, Bias: 13212.269385, T: 5120, Avg. loss: 3381741.815773\n",
      "Total training time: 0.01 seconds.\n",
      "-- Epoch 33\n",
      "Norm: 4566.33, NNZs: 25, Bias: 13211.504484, T: 5280, Avg. loss: 3376141.351998\n",
      "Total training time: 0.01 seconds.\n",
      "-- Epoch 34\n",
      "Norm: 4594.42, NNZs: 25, Bias: 13214.455924, T: 5440, Avg. loss: 3369712.665569\n",
      "Total training time: 0.01 seconds.\n",
      "-- Epoch 35\n",
      "Norm: 4564.96, NNZs: 25, Bias: 13214.083711, T: 5600, Avg. loss: 3359482.229364\n",
      "Total training time: 0.01 seconds.\n",
      "-- Epoch 36\n",
      "Norm: 4583.52, NNZs: 25, Bias: 13215.588912, T: 5760, Avg. loss: 3368709.482160\n",
      "Total training time: 0.01 seconds.\n",
      "-- Epoch 37\n",
      "Norm: 4620.46, NNZs: 25, Bias: 13218.700202, T: 5920, Avg. loss: 3355835.351669\n",
      "Total training time: 0.01 seconds.\n",
      "-- Epoch 38\n",
      "Norm: 4607.36, NNZs: 25, Bias: 13218.495358, T: 6080, Avg. loss: 3356704.831907\n",
      "Total training time: 0.01 seconds.\n",
      "-- Epoch 39\n",
      "Norm: 4620.59, NNZs: 25, Bias: 13217.757873, T: 6240, Avg. loss: 3351804.382030\n",
      "Total training time: 0.01 seconds.\n",
      "-- Epoch 40\n",
      "Norm: 4663.26, NNZs: 25, Bias: 13220.796042, T: 6400, Avg. loss: 3339213.220124\n",
      "Total training time: 0.01 seconds.\n",
      "-- Epoch 41\n",
      "Norm: 4609.72, NNZs: 25, Bias: 13215.477445, T: 6560, Avg. loss: 3298298.683195\n",
      "Total training time: 0.01 seconds.\n",
      "-- Epoch 42\n",
      "Norm: 4637.94, NNZs: 25, Bias: 13219.363102, T: 6720, Avg. loss: 3343653.107350\n",
      "Total training time: 0.01 seconds.\n",
      "-- Epoch 43\n",
      "Norm: 4656.21, NNZs: 25, Bias: 13219.696512, T: 6880, Avg. loss: 3344142.651155\n",
      "Total training time: 0.01 seconds.\n",
      "-- Epoch 44\n",
      "Norm: 4672.99, NNZs: 25, Bias: 13217.176813, T: 7040, Avg. loss: 3340680.117516\n",
      "Total training time: 0.01 seconds.\n",
      "-- Epoch 45\n",
      "Norm: 4685.66, NNZs: 25, Bias: 13219.038924, T: 7200, Avg. loss: 3337457.661620\n",
      "Total training time: 0.01 seconds.\n",
      "-- Epoch 46\n",
      "Norm: 4713.51, NNZs: 25, Bias: 13215.730363, T: 7360, Avg. loss: 3320906.101004\n",
      "Total training time: 0.01 seconds.\n",
      "Convergence after 46 epochs took 0.01 seconds\n"
     ]
    },
    {
     "data": {
      "text/plain": [
       "SGDRegressor(verbose=1)"
      ]
     },
     "execution_count": 323,
     "metadata": {},
     "output_type": "execute_result"
    }
   ],
   "source": [
    "sgd_model.fit(car_train_x,car_train_y)"
   ]
  },
  {
   "cell_type": "code",
   "execution_count": 324,
   "id": "14457587",
   "metadata": {},
   "outputs": [
    {
     "data": {
      "text/plain": [
       "0.9008423846167782"
      ]
     },
     "execution_count": 324,
     "metadata": {},
     "output_type": "execute_result"
    }
   ],
   "source": [
    "sgd_model.score(car_train_x,car_train_y)"
   ]
  },
  {
   "cell_type": "code",
   "execution_count": 325,
   "id": "39da926a",
   "metadata": {},
   "outputs": [
    {
     "data": {
      "text/html": [
       "<div>\n",
       "<style scoped>\n",
       "    .dataframe tbody tr th:only-of-type {\n",
       "        vertical-align: middle;\n",
       "    }\n",
       "\n",
       "    .dataframe tbody tr th {\n",
       "        vertical-align: top;\n",
       "    }\n",
       "\n",
       "    .dataframe thead th {\n",
       "        text-align: right;\n",
       "    }\n",
       "</style>\n",
       "<table border=\"1\" class=\"dataframe\">\n",
       "  <thead>\n",
       "    <tr style=\"text-align: right;\">\n",
       "      <th></th>\n",
       "      <th>symboling</th>\n",
       "      <th>normalized_losses</th>\n",
       "      <th>Fuel_type</th>\n",
       "      <th>make</th>\n",
       "      <th>num_of_doors</th>\n",
       "      <th>aspiration</th>\n",
       "      <th>wheel_base</th>\n",
       "      <th>engine_location</th>\n",
       "      <th>drive_wheels</th>\n",
       "      <th>body_style</th>\n",
       "      <th>...</th>\n",
       "      <th>engine_size</th>\n",
       "      <th>fuel_system</th>\n",
       "      <th>bore</th>\n",
       "      <th>stroke</th>\n",
       "      <th>compression_ratio</th>\n",
       "      <th>horsepower</th>\n",
       "      <th>peak_rpm</th>\n",
       "      <th>city_mpg</th>\n",
       "      <th>highway_mpg</th>\n",
       "      <th>price</th>\n",
       "    </tr>\n",
       "  </thead>\n",
       "  <tbody>\n",
       "    <tr>\n",
       "      <th>symboling</th>\n",
       "      <td>1.000000</td>\n",
       "      <td>4.662638e-01</td>\n",
       "      <td>0.196735</td>\n",
       "      <td>-0.054615</td>\n",
       "      <td>0.672344</td>\n",
       "      <td>-0.600333</td>\n",
       "      <td>-0.053056</td>\n",
       "      <td>2.123389e-01</td>\n",
       "      <td>-0.535987</td>\n",
       "      <td>-0.129645</td>\n",
       "      <td>...</td>\n",
       "      <td>-0.110581</td>\n",
       "      <td>0.091601</td>\n",
       "      <td>-0.140019</td>\n",
       "      <td>-0.008153</td>\n",
       "      <td>-0.182196</td>\n",
       "      <td>0.075819</td>\n",
       "      <td>0.279740</td>\n",
       "      <td>-0.035527</td>\n",
       "      <td>0.036233</td>\n",
       "      <td>-0.082391</td>\n",
       "    </tr>\n",
       "    <tr>\n",
       "      <th>normalized_losses</th>\n",
       "      <td>0.466264</td>\n",
       "      <td>1.000000e+00</td>\n",
       "      <td>0.101546</td>\n",
       "      <td>-0.006911</td>\n",
       "      <td>0.361368</td>\n",
       "      <td>-0.251775</td>\n",
       "      <td>0.317214</td>\n",
       "      <td>9.412733e-17</td>\n",
       "      <td>-0.056661</td>\n",
       "      <td>-0.254356</td>\n",
       "      <td>...</td>\n",
       "      <td>0.112360</td>\n",
       "      <td>0.230311</td>\n",
       "      <td>-0.029862</td>\n",
       "      <td>0.055045</td>\n",
       "      <td>-0.114713</td>\n",
       "      <td>0.217299</td>\n",
       "      <td>0.239543</td>\n",
       "      <td>-0.225016</td>\n",
       "      <td>-0.181877</td>\n",
       "      <td>0.133999</td>\n",
       "    </tr>\n",
       "    <tr>\n",
       "      <th>Fuel_type</th>\n",
       "      <td>0.196735</td>\n",
       "      <td>1.015463e-01</td>\n",
       "      <td>1.000000</td>\n",
       "      <td>-0.408228</td>\n",
       "      <td>0.186681</td>\n",
       "      <td>-0.147654</td>\n",
       "      <td>-0.131096</td>\n",
       "      <td>4.091700e-02</td>\n",
       "      <td>-0.307237</td>\n",
       "      <td>-0.109330</td>\n",
       "      <td>...</td>\n",
       "      <td>-0.070779</td>\n",
       "      <td>0.042824</td>\n",
       "      <td>-0.054458</td>\n",
       "      <td>-0.241064</td>\n",
       "      <td>-0.985231</td>\n",
       "      <td>0.169053</td>\n",
       "      <td>0.475812</td>\n",
       "      <td>-0.265676</td>\n",
       "      <td>-0.198690</td>\n",
       "      <td>-0.110326</td>\n",
       "    </tr>\n",
       "    <tr>\n",
       "      <th>make</th>\n",
       "      <td>-0.054615</td>\n",
       "      <td>-6.910980e-03</td>\n",
       "      <td>-0.408228</td>\n",
       "      <td>1.000000</td>\n",
       "      <td>-0.063017</td>\n",
       "      <td>0.072079</td>\n",
       "      <td>0.094469</td>\n",
       "      <td>-5.749596e-02</td>\n",
       "      <td>0.256889</td>\n",
       "      <td>0.071254</td>\n",
       "      <td>...</td>\n",
       "      <td>0.110040</td>\n",
       "      <td>0.282269</td>\n",
       "      <td>0.227816</td>\n",
       "      <td>0.218233</td>\n",
       "      <td>0.307522</td>\n",
       "      <td>0.251127</td>\n",
       "      <td>-0.190057</td>\n",
       "      <td>-0.189237</td>\n",
       "      <td>-0.241851</td>\n",
       "      <td>0.179578</td>\n",
       "    </tr>\n",
       "    <tr>\n",
       "      <th>num_of_doors</th>\n",
       "      <td>0.672344</td>\n",
       "      <td>3.613676e-01</td>\n",
       "      <td>0.186681</td>\n",
       "      <td>-0.063017</td>\n",
       "      <td>1.000000</td>\n",
       "      <td>-0.688542</td>\n",
       "      <td>0.115920</td>\n",
       "      <td>1.423403e-01</td>\n",
       "      <td>-0.445245</td>\n",
       "      <td>-0.146172</td>\n",
       "      <td>...</td>\n",
       "      <td>-0.024094</td>\n",
       "      <td>-0.001246</td>\n",
       "      <td>-0.119222</td>\n",
       "      <td>0.007672</td>\n",
       "      <td>-0.169164</td>\n",
       "      <td>0.102889</td>\n",
       "      <td>0.232054</td>\n",
       "      <td>0.027617</td>\n",
       "      <td>0.045787</td>\n",
       "      <td>-0.042435</td>\n",
       "    </tr>\n",
       "    <tr>\n",
       "      <th>aspiration</th>\n",
       "      <td>-0.600333</td>\n",
       "      <td>-2.517751e-01</td>\n",
       "      <td>-0.147654</td>\n",
       "      <td>0.072079</td>\n",
       "      <td>-0.688542</td>\n",
       "      <td>1.000000</td>\n",
       "      <td>-0.161004</td>\n",
       "      <td>-2.783504e-01</td>\n",
       "      <td>0.407128</td>\n",
       "      <td>0.090621</td>\n",
       "      <td>...</td>\n",
       "      <td>-0.063692</td>\n",
       "      <td>-0.054810</td>\n",
       "      <td>0.021233</td>\n",
       "      <td>-0.013401</td>\n",
       "      <td>0.134622</td>\n",
       "      <td>-0.136472</td>\n",
       "      <td>-0.105713</td>\n",
       "      <td>0.014217</td>\n",
       "      <td>-0.021328</td>\n",
       "      <td>-0.072933</td>\n",
       "    </tr>\n",
       "    <tr>\n",
       "      <th>wheel_base</th>\n",
       "      <td>-0.053056</td>\n",
       "      <td>3.172142e-01</td>\n",
       "      <td>-0.131096</td>\n",
       "      <td>0.094469</td>\n",
       "      <td>0.115920</td>\n",
       "      <td>-0.161004</td>\n",
       "      <td>1.000000</td>\n",
       "      <td>1.493687e-01</td>\n",
       "      <td>0.467661</td>\n",
       "      <td>-0.034844</td>\n",
       "      <td>...</td>\n",
       "      <td>0.526027</td>\n",
       "      <td>0.435926</td>\n",
       "      <td>0.471838</td>\n",
       "      <td>0.078738</td>\n",
       "      <td>0.120125</td>\n",
       "      <td>0.545892</td>\n",
       "      <td>-0.035765</td>\n",
       "      <td>-0.469240</td>\n",
       "      <td>-0.472893</td>\n",
       "      <td>0.588333</td>\n",
       "    </tr>\n",
       "    <tr>\n",
       "      <th>engine_location</th>\n",
       "      <td>0.212339</td>\n",
       "      <td>9.412733e-17</td>\n",
       "      <td>0.040917</td>\n",
       "      <td>-0.057496</td>\n",
       "      <td>0.142340</td>\n",
       "      <td>-0.278350</td>\n",
       "      <td>0.149369</td>\n",
       "      <td>1.000000e+00</td>\n",
       "      <td>-0.189115</td>\n",
       "      <td>0.053312</td>\n",
       "      <td>...</td>\n",
       "      <td>0.199367</td>\n",
       "      <td>0.106735</td>\n",
       "      <td>0.188413</td>\n",
       "      <td>-0.139339</td>\n",
       "      <td>-0.020467</td>\n",
       "      <td>0.342117</td>\n",
       "      <td>0.201917</td>\n",
       "      <td>-0.157132</td>\n",
       "      <td>-0.102964</td>\n",
       "      <td>0.331062</td>\n",
       "    </tr>\n",
       "    <tr>\n",
       "      <th>drive_wheels</th>\n",
       "      <td>-0.535987</td>\n",
       "      <td>-5.666124e-02</td>\n",
       "      <td>-0.307237</td>\n",
       "      <td>0.256889</td>\n",
       "      <td>-0.445245</td>\n",
       "      <td>0.407128</td>\n",
       "      <td>0.467661</td>\n",
       "      <td>-1.891150e-01</td>\n",
       "      <td>1.000000</td>\n",
       "      <td>0.073930</td>\n",
       "      <td>...</td>\n",
       "      <td>0.572027</td>\n",
       "      <td>0.381273</td>\n",
       "      <td>0.493244</td>\n",
       "      <td>0.158018</td>\n",
       "      <td>0.250313</td>\n",
       "      <td>0.371147</td>\n",
       "      <td>-0.360305</td>\n",
       "      <td>-0.470606</td>\n",
       "      <td>-0.543304</td>\n",
       "      <td>0.584642</td>\n",
       "    </tr>\n",
       "    <tr>\n",
       "      <th>body_style</th>\n",
       "      <td>-0.129645</td>\n",
       "      <td>-2.543563e-01</td>\n",
       "      <td>-0.109330</td>\n",
       "      <td>0.071254</td>\n",
       "      <td>-0.146172</td>\n",
       "      <td>0.090621</td>\n",
       "      <td>-0.034844</td>\n",
       "      <td>5.331188e-02</td>\n",
       "      <td>0.073930</td>\n",
       "      <td>1.000000</td>\n",
       "      <td>...</td>\n",
       "      <td>-0.084770</td>\n",
       "      <td>0.144769</td>\n",
       "      <td>0.236814</td>\n",
       "      <td>-0.203691</td>\n",
       "      <td>0.132554</td>\n",
       "      <td>-0.064462</td>\n",
       "      <td>-0.212912</td>\n",
       "      <td>0.065761</td>\n",
       "      <td>0.059111</td>\n",
       "      <td>-0.163646</td>\n",
       "    </tr>\n",
       "    <tr>\n",
       "      <th>length</th>\n",
       "      <td>-0.365404</td>\n",
       "      <td>1.942356e-02</td>\n",
       "      <td>-0.211187</td>\n",
       "      <td>0.230085</td>\n",
       "      <td>-0.395122</td>\n",
       "      <td>0.347571</td>\n",
       "      <td>0.495197</td>\n",
       "      <td>-5.308613e-02</td>\n",
       "      <td>0.876024</td>\n",
       "      <td>0.110468</td>\n",
       "      <td>...</td>\n",
       "      <td>0.685025</td>\n",
       "      <td>0.551120</td>\n",
       "      <td>0.608971</td>\n",
       "      <td>0.123952</td>\n",
       "      <td>0.159733</td>\n",
       "      <td>0.579821</td>\n",
       "      <td>-0.285970</td>\n",
       "      <td>-0.665192</td>\n",
       "      <td>-0.698142</td>\n",
       "      <td>0.690628</td>\n",
       "    </tr>\n",
       "    <tr>\n",
       "      <th>width</th>\n",
       "      <td>-0.242423</td>\n",
       "      <td>8.680206e-02</td>\n",
       "      <td>-0.244356</td>\n",
       "      <td>0.305732</td>\n",
       "      <td>-0.227655</td>\n",
       "      <td>0.155366</td>\n",
       "      <td>0.481395</td>\n",
       "      <td>-5.220549e-02</td>\n",
       "      <td>0.814507</td>\n",
       "      <td>-0.005115</td>\n",
       "      <td>...</td>\n",
       "      <td>0.729436</td>\n",
       "      <td>0.513371</td>\n",
       "      <td>0.544885</td>\n",
       "      <td>0.188822</td>\n",
       "      <td>0.189867</td>\n",
       "      <td>0.615077</td>\n",
       "      <td>-0.245800</td>\n",
       "      <td>-0.633531</td>\n",
       "      <td>-0.680635</td>\n",
       "      <td>0.751265</td>\n",
       "    </tr>\n",
       "    <tr>\n",
       "      <th>height</th>\n",
       "      <td>-0.550160</td>\n",
       "      <td>-3.737370e-01</td>\n",
       "      <td>-0.281578</td>\n",
       "      <td>0.090336</td>\n",
       "      <td>-0.538383</td>\n",
       "      <td>0.571107</td>\n",
       "      <td>-0.025096</td>\n",
       "      <td>-1.092253e-01</td>\n",
       "      <td>0.590742</td>\n",
       "      <td>0.230754</td>\n",
       "      <td>...</td>\n",
       "      <td>0.074694</td>\n",
       "      <td>0.018196</td>\n",
       "      <td>0.180449</td>\n",
       "      <td>-0.060663</td>\n",
       "      <td>0.259737</td>\n",
       "      <td>-0.087027</td>\n",
       "      <td>-0.309974</td>\n",
       "      <td>-0.049800</td>\n",
       "      <td>-0.104812</td>\n",
       "      <td>0.135486</td>\n",
       "    </tr>\n",
       "    <tr>\n",
       "      <th>curb_weight</th>\n",
       "      <td>-0.233118</td>\n",
       "      <td>9.940425e-02</td>\n",
       "      <td>-0.221046</td>\n",
       "      <td>0.321955</td>\n",
       "      <td>-0.208517</td>\n",
       "      <td>0.145762</td>\n",
       "      <td>0.590642</td>\n",
       "      <td>5.128729e-02</td>\n",
       "      <td>0.782097</td>\n",
       "      <td>0.017115</td>\n",
       "      <td>...</td>\n",
       "      <td>0.849072</td>\n",
       "      <td>0.602638</td>\n",
       "      <td>0.644060</td>\n",
       "      <td>0.167438</td>\n",
       "      <td>0.156433</td>\n",
       "      <td>0.757976</td>\n",
       "      <td>-0.279361</td>\n",
       "      <td>-0.749543</td>\n",
       "      <td>-0.794889</td>\n",
       "      <td>0.834415</td>\n",
       "    </tr>\n",
       "    <tr>\n",
       "      <th>engine_type</th>\n",
       "      <td>0.091801</td>\n",
       "      <td>-5.754983e-02</td>\n",
       "      <td>0.124051</td>\n",
       "      <td>-0.130898</td>\n",
       "      <td>0.109089</td>\n",
       "      <td>-0.080350</td>\n",
       "      <td>-0.067339</td>\n",
       "      <td>1.256834e-01</td>\n",
       "      <td>-0.143928</td>\n",
       "      <td>-0.044549</td>\n",
       "      <td>...</td>\n",
       "      <td>0.118248</td>\n",
       "      <td>-0.042551</td>\n",
       "      <td>0.078760</td>\n",
       "      <td>-0.168131</td>\n",
       "      <td>-0.105280</td>\n",
       "      <td>0.144431</td>\n",
       "      <td>0.057592</td>\n",
       "      <td>-0.171524</td>\n",
       "      <td>-0.156458</td>\n",
       "      <td>0.126025</td>\n",
       "    </tr>\n",
       "    <tr>\n",
       "      <th>num_of_cylinders</th>\n",
       "      <td>0.199377</td>\n",
       "      <td>1.707116e-01</td>\n",
       "      <td>0.120638</td>\n",
       "      <td>-0.129771</td>\n",
       "      <td>0.185434</td>\n",
       "      <td>-0.063741</td>\n",
       "      <td>0.231177</td>\n",
       "      <td>1.360094e-01</td>\n",
       "      <td>-0.190489</td>\n",
       "      <td>-0.049947</td>\n",
       "      <td>...</td>\n",
       "      <td>-0.064607</td>\n",
       "      <td>0.028508</td>\n",
       "      <td>-0.010750</td>\n",
       "      <td>-0.054967</td>\n",
       "      <td>-0.072699</td>\n",
       "      <td>0.201901</td>\n",
       "      <td>0.253959</td>\n",
       "      <td>-0.157424</td>\n",
       "      <td>-0.101386</td>\n",
       "      <td>0.005509</td>\n",
       "    </tr>\n",
       "    <tr>\n",
       "      <th>engine_size</th>\n",
       "      <td>-0.110581</td>\n",
       "      <td>1.123600e-01</td>\n",
       "      <td>-0.070779</td>\n",
       "      <td>0.110040</td>\n",
       "      <td>-0.024094</td>\n",
       "      <td>-0.063692</td>\n",
       "      <td>0.526027</td>\n",
       "      <td>1.993671e-01</td>\n",
       "      <td>0.572027</td>\n",
       "      <td>-0.084770</td>\n",
       "      <td>...</td>\n",
       "      <td>1.000000</td>\n",
       "      <td>0.507264</td>\n",
       "      <td>0.572609</td>\n",
       "      <td>0.205928</td>\n",
       "      <td>0.028889</td>\n",
       "      <td>0.822676</td>\n",
       "      <td>-0.256733</td>\n",
       "      <td>-0.650546</td>\n",
       "      <td>-0.679571</td>\n",
       "      <td>0.872335</td>\n",
       "    </tr>\n",
       "    <tr>\n",
       "      <th>fuel_system</th>\n",
       "      <td>0.091601</td>\n",
       "      <td>2.303108e-01</td>\n",
       "      <td>0.042824</td>\n",
       "      <td>0.282269</td>\n",
       "      <td>-0.001246</td>\n",
       "      <td>-0.054810</td>\n",
       "      <td>0.435926</td>\n",
       "      <td>1.067355e-01</td>\n",
       "      <td>0.381273</td>\n",
       "      <td>0.144769</td>\n",
       "      <td>...</td>\n",
       "      <td>0.507264</td>\n",
       "      <td>1.000000</td>\n",
       "      <td>0.470979</td>\n",
       "      <td>0.084064</td>\n",
       "      <td>-0.099933</td>\n",
       "      <td>0.673066</td>\n",
       "      <td>0.012378</td>\n",
       "      <td>-0.663651</td>\n",
       "      <td>-0.638017</td>\n",
       "      <td>0.521689</td>\n",
       "    </tr>\n",
       "    <tr>\n",
       "      <th>bore</th>\n",
       "      <td>-0.140019</td>\n",
       "      <td>-2.986248e-02</td>\n",
       "      <td>-0.054458</td>\n",
       "      <td>0.227816</td>\n",
       "      <td>-0.119222</td>\n",
       "      <td>0.021233</td>\n",
       "      <td>0.471838</td>\n",
       "      <td>1.884129e-01</td>\n",
       "      <td>0.493244</td>\n",
       "      <td>0.236814</td>\n",
       "      <td>...</td>\n",
       "      <td>0.572609</td>\n",
       "      <td>0.470979</td>\n",
       "      <td>1.000000</td>\n",
       "      <td>-0.055390</td>\n",
       "      <td>0.001263</td>\n",
       "      <td>0.566936</td>\n",
       "      <td>-0.267392</td>\n",
       "      <td>-0.582027</td>\n",
       "      <td>-0.591309</td>\n",
       "      <td>0.543155</td>\n",
       "    </tr>\n",
       "    <tr>\n",
       "      <th>stroke</th>\n",
       "      <td>-0.008153</td>\n",
       "      <td>5.504531e-02</td>\n",
       "      <td>-0.241064</td>\n",
       "      <td>0.218233</td>\n",
       "      <td>0.007672</td>\n",
       "      <td>-0.013401</td>\n",
       "      <td>0.078738</td>\n",
       "      <td>-1.393393e-01</td>\n",
       "      <td>0.158018</td>\n",
       "      <td>-0.203691</td>\n",
       "      <td>...</td>\n",
       "      <td>0.205928</td>\n",
       "      <td>0.084064</td>\n",
       "      <td>-0.055390</td>\n",
       "      <td>1.000000</td>\n",
       "      <td>0.187871</td>\n",
       "      <td>0.098267</td>\n",
       "      <td>-0.063561</td>\n",
       "      <td>-0.033956</td>\n",
       "      <td>-0.034636</td>\n",
       "      <td>0.082269</td>\n",
       "    </tr>\n",
       "    <tr>\n",
       "      <th>compression_ratio</th>\n",
       "      <td>-0.182196</td>\n",
       "      <td>-1.147132e-01</td>\n",
       "      <td>-0.985231</td>\n",
       "      <td>0.307522</td>\n",
       "      <td>-0.169164</td>\n",
       "      <td>0.134622</td>\n",
       "      <td>0.120125</td>\n",
       "      <td>-2.046739e-02</td>\n",
       "      <td>0.250313</td>\n",
       "      <td>0.132554</td>\n",
       "      <td>...</td>\n",
       "      <td>0.028889</td>\n",
       "      <td>-0.099933</td>\n",
       "      <td>0.001263</td>\n",
       "      <td>0.187871</td>\n",
       "      <td>1.000000</td>\n",
       "      <td>-0.214514</td>\n",
       "      <td>-0.435780</td>\n",
       "      <td>0.331425</td>\n",
       "      <td>0.268465</td>\n",
       "      <td>0.071107</td>\n",
       "    </tr>\n",
       "    <tr>\n",
       "      <th>horsepower</th>\n",
       "      <td>0.075819</td>\n",
       "      <td>2.172994e-01</td>\n",
       "      <td>0.169053</td>\n",
       "      <td>0.251127</td>\n",
       "      <td>0.102889</td>\n",
       "      <td>-0.136472</td>\n",
       "      <td>0.545892</td>\n",
       "      <td>3.421169e-01</td>\n",
       "      <td>0.371147</td>\n",
       "      <td>-0.064462</td>\n",
       "      <td>...</td>\n",
       "      <td>0.822676</td>\n",
       "      <td>0.673066</td>\n",
       "      <td>0.566936</td>\n",
       "      <td>0.098267</td>\n",
       "      <td>-0.214514</td>\n",
       "      <td>1.000000</td>\n",
       "      <td>0.107885</td>\n",
       "      <td>-0.822214</td>\n",
       "      <td>-0.804575</td>\n",
       "      <td>0.809575</td>\n",
       "    </tr>\n",
       "    <tr>\n",
       "      <th>peak_rpm</th>\n",
       "      <td>0.279740</td>\n",
       "      <td>2.395435e-01</td>\n",
       "      <td>0.475812</td>\n",
       "      <td>-0.190057</td>\n",
       "      <td>0.232054</td>\n",
       "      <td>-0.105713</td>\n",
       "      <td>-0.035765</td>\n",
       "      <td>2.019167e-01</td>\n",
       "      <td>-0.360305</td>\n",
       "      <td>-0.212912</td>\n",
       "      <td>...</td>\n",
       "      <td>-0.256733</td>\n",
       "      <td>0.012378</td>\n",
       "      <td>-0.267392</td>\n",
       "      <td>-0.063561</td>\n",
       "      <td>-0.435780</td>\n",
       "      <td>0.107885</td>\n",
       "      <td>1.000000</td>\n",
       "      <td>-0.115413</td>\n",
       "      <td>-0.058598</td>\n",
       "      <td>-0.101616</td>\n",
       "    </tr>\n",
       "    <tr>\n",
       "      <th>city_mpg</th>\n",
       "      <td>-0.035527</td>\n",
       "      <td>-2.250157e-01</td>\n",
       "      <td>-0.265676</td>\n",
       "      <td>-0.189237</td>\n",
       "      <td>0.027617</td>\n",
       "      <td>0.014217</td>\n",
       "      <td>-0.469240</td>\n",
       "      <td>-1.571318e-01</td>\n",
       "      <td>-0.470606</td>\n",
       "      <td>0.065761</td>\n",
       "      <td>...</td>\n",
       "      <td>-0.650546</td>\n",
       "      <td>-0.663651</td>\n",
       "      <td>-0.582027</td>\n",
       "      <td>-0.033956</td>\n",
       "      <td>0.331425</td>\n",
       "      <td>-0.822214</td>\n",
       "      <td>-0.115413</td>\n",
       "      <td>1.000000</td>\n",
       "      <td>0.972044</td>\n",
       "      <td>-0.686571</td>\n",
       "    </tr>\n",
       "    <tr>\n",
       "      <th>highway_mpg</th>\n",
       "      <td>0.036233</td>\n",
       "      <td>-1.818772e-01</td>\n",
       "      <td>-0.198690</td>\n",
       "      <td>-0.241851</td>\n",
       "      <td>0.045787</td>\n",
       "      <td>-0.021328</td>\n",
       "      <td>-0.472893</td>\n",
       "      <td>-1.029641e-01</td>\n",
       "      <td>-0.543304</td>\n",
       "      <td>0.059111</td>\n",
       "      <td>...</td>\n",
       "      <td>-0.679571</td>\n",
       "      <td>-0.638017</td>\n",
       "      <td>-0.591309</td>\n",
       "      <td>-0.034636</td>\n",
       "      <td>0.268465</td>\n",
       "      <td>-0.804575</td>\n",
       "      <td>-0.058598</td>\n",
       "      <td>0.972044</td>\n",
       "      <td>1.000000</td>\n",
       "      <td>-0.704692</td>\n",
       "    </tr>\n",
       "    <tr>\n",
       "      <th>price</th>\n",
       "      <td>-0.082391</td>\n",
       "      <td>1.339987e-01</td>\n",
       "      <td>-0.110326</td>\n",
       "      <td>0.179578</td>\n",
       "      <td>-0.042435</td>\n",
       "      <td>-0.072933</td>\n",
       "      <td>0.588333</td>\n",
       "      <td>3.310619e-01</td>\n",
       "      <td>0.584642</td>\n",
       "      <td>-0.163646</td>\n",
       "      <td>...</td>\n",
       "      <td>0.872335</td>\n",
       "      <td>0.521689</td>\n",
       "      <td>0.543155</td>\n",
       "      <td>0.082269</td>\n",
       "      <td>0.071107</td>\n",
       "      <td>0.809575</td>\n",
       "      <td>-0.101616</td>\n",
       "      <td>-0.686571</td>\n",
       "      <td>-0.704692</td>\n",
       "      <td>1.000000</td>\n",
       "    </tr>\n",
       "  </tbody>\n",
       "</table>\n",
       "<p>26 rows × 26 columns</p>\n",
       "</div>"
      ],
      "text/plain": [
       "                   symboling  normalized_losses  Fuel_type      make  \\\n",
       "symboling           1.000000       4.662638e-01   0.196735 -0.054615   \n",
       "normalized_losses   0.466264       1.000000e+00   0.101546 -0.006911   \n",
       "Fuel_type           0.196735       1.015463e-01   1.000000 -0.408228   \n",
       "make               -0.054615      -6.910980e-03  -0.408228  1.000000   \n",
       "num_of_doors        0.672344       3.613676e-01   0.186681 -0.063017   \n",
       "aspiration         -0.600333      -2.517751e-01  -0.147654  0.072079   \n",
       "wheel_base         -0.053056       3.172142e-01  -0.131096  0.094469   \n",
       "engine_location     0.212339       9.412733e-17   0.040917 -0.057496   \n",
       "drive_wheels       -0.535987      -5.666124e-02  -0.307237  0.256889   \n",
       "body_style         -0.129645      -2.543563e-01  -0.109330  0.071254   \n",
       "length             -0.365404       1.942356e-02  -0.211187  0.230085   \n",
       "width              -0.242423       8.680206e-02  -0.244356  0.305732   \n",
       "height             -0.550160      -3.737370e-01  -0.281578  0.090336   \n",
       "curb_weight        -0.233118       9.940425e-02  -0.221046  0.321955   \n",
       "engine_type         0.091801      -5.754983e-02   0.124051 -0.130898   \n",
       "num_of_cylinders    0.199377       1.707116e-01   0.120638 -0.129771   \n",
       "engine_size        -0.110581       1.123600e-01  -0.070779  0.110040   \n",
       "fuel_system         0.091601       2.303108e-01   0.042824  0.282269   \n",
       "bore               -0.140019      -2.986248e-02  -0.054458  0.227816   \n",
       "stroke             -0.008153       5.504531e-02  -0.241064  0.218233   \n",
       "compression_ratio  -0.182196      -1.147132e-01  -0.985231  0.307522   \n",
       "horsepower          0.075819       2.172994e-01   0.169053  0.251127   \n",
       "peak_rpm            0.279740       2.395435e-01   0.475812 -0.190057   \n",
       "city_mpg           -0.035527      -2.250157e-01  -0.265676 -0.189237   \n",
       "highway_mpg         0.036233      -1.818772e-01  -0.198690 -0.241851   \n",
       "price              -0.082391       1.339987e-01  -0.110326  0.179578   \n",
       "\n",
       "                   num_of_doors  aspiration  wheel_base  engine_location  \\\n",
       "symboling              0.672344   -0.600333   -0.053056     2.123389e-01   \n",
       "normalized_losses      0.361368   -0.251775    0.317214     9.412733e-17   \n",
       "Fuel_type              0.186681   -0.147654   -0.131096     4.091700e-02   \n",
       "make                  -0.063017    0.072079    0.094469    -5.749596e-02   \n",
       "num_of_doors           1.000000   -0.688542    0.115920     1.423403e-01   \n",
       "aspiration            -0.688542    1.000000   -0.161004    -2.783504e-01   \n",
       "wheel_base             0.115920   -0.161004    1.000000     1.493687e-01   \n",
       "engine_location        0.142340   -0.278350    0.149369     1.000000e+00   \n",
       "drive_wheels          -0.445245    0.407128    0.467661    -1.891150e-01   \n",
       "body_style            -0.146172    0.090621   -0.034844     5.331188e-02   \n",
       "length                -0.395122    0.347571    0.495197    -5.308613e-02   \n",
       "width                 -0.227655    0.155366    0.481395    -5.220549e-02   \n",
       "height                -0.538383    0.571107   -0.025096    -1.092253e-01   \n",
       "curb_weight           -0.208517    0.145762    0.590642     5.128729e-02   \n",
       "engine_type            0.109089   -0.080350   -0.067339     1.256834e-01   \n",
       "num_of_cylinders       0.185434   -0.063741    0.231177     1.360094e-01   \n",
       "engine_size           -0.024094   -0.063692    0.526027     1.993671e-01   \n",
       "fuel_system           -0.001246   -0.054810    0.435926     1.067355e-01   \n",
       "bore                  -0.119222    0.021233    0.471838     1.884129e-01   \n",
       "stroke                 0.007672   -0.013401    0.078738    -1.393393e-01   \n",
       "compression_ratio     -0.169164    0.134622    0.120125    -2.046739e-02   \n",
       "horsepower             0.102889   -0.136472    0.545892     3.421169e-01   \n",
       "peak_rpm               0.232054   -0.105713   -0.035765     2.019167e-01   \n",
       "city_mpg               0.027617    0.014217   -0.469240    -1.571318e-01   \n",
       "highway_mpg            0.045787   -0.021328   -0.472893    -1.029641e-01   \n",
       "price                 -0.042435   -0.072933    0.588333     3.310619e-01   \n",
       "\n",
       "                   drive_wheels  body_style  ...  engine_size  fuel_system  \\\n",
       "symboling             -0.535987   -0.129645  ...    -0.110581     0.091601   \n",
       "normalized_losses     -0.056661   -0.254356  ...     0.112360     0.230311   \n",
       "Fuel_type             -0.307237   -0.109330  ...    -0.070779     0.042824   \n",
       "make                   0.256889    0.071254  ...     0.110040     0.282269   \n",
       "num_of_doors          -0.445245   -0.146172  ...    -0.024094    -0.001246   \n",
       "aspiration             0.407128    0.090621  ...    -0.063692    -0.054810   \n",
       "wheel_base             0.467661   -0.034844  ...     0.526027     0.435926   \n",
       "engine_location       -0.189115    0.053312  ...     0.199367     0.106735   \n",
       "drive_wheels           1.000000    0.073930  ...     0.572027     0.381273   \n",
       "body_style             0.073930    1.000000  ...    -0.084770     0.144769   \n",
       "length                 0.876024    0.110468  ...     0.685025     0.551120   \n",
       "width                  0.814507   -0.005115  ...     0.729436     0.513371   \n",
       "height                 0.590742    0.230754  ...     0.074694     0.018196   \n",
       "curb_weight            0.782097    0.017115  ...     0.849072     0.602638   \n",
       "engine_type           -0.143928   -0.044549  ...     0.118248    -0.042551   \n",
       "num_of_cylinders      -0.190489   -0.049947  ...    -0.064607     0.028508   \n",
       "engine_size            0.572027   -0.084770  ...     1.000000     0.507264   \n",
       "fuel_system            0.381273    0.144769  ...     0.507264     1.000000   \n",
       "bore                   0.493244    0.236814  ...     0.572609     0.470979   \n",
       "stroke                 0.158018   -0.203691  ...     0.205928     0.084064   \n",
       "compression_ratio      0.250313    0.132554  ...     0.028889    -0.099933   \n",
       "horsepower             0.371147   -0.064462  ...     0.822676     0.673066   \n",
       "peak_rpm              -0.360305   -0.212912  ...    -0.256733     0.012378   \n",
       "city_mpg              -0.470606    0.065761  ...    -0.650546    -0.663651   \n",
       "highway_mpg           -0.543304    0.059111  ...    -0.679571    -0.638017   \n",
       "price                  0.584642   -0.163646  ...     0.872335     0.521689   \n",
       "\n",
       "                       bore    stroke  compression_ratio  horsepower  \\\n",
       "symboling         -0.140019 -0.008153          -0.182196    0.075819   \n",
       "normalized_losses -0.029862  0.055045          -0.114713    0.217299   \n",
       "Fuel_type         -0.054458 -0.241064          -0.985231    0.169053   \n",
       "make               0.227816  0.218233           0.307522    0.251127   \n",
       "num_of_doors      -0.119222  0.007672          -0.169164    0.102889   \n",
       "aspiration         0.021233 -0.013401           0.134622   -0.136472   \n",
       "wheel_base         0.471838  0.078738           0.120125    0.545892   \n",
       "engine_location    0.188413 -0.139339          -0.020467    0.342117   \n",
       "drive_wheels       0.493244  0.158018           0.250313    0.371147   \n",
       "body_style         0.236814 -0.203691           0.132554   -0.064462   \n",
       "length             0.608971  0.123952           0.159733    0.579821   \n",
       "width              0.544885  0.188822           0.189867    0.615077   \n",
       "height             0.180449 -0.060663           0.259737   -0.087027   \n",
       "curb_weight        0.644060  0.167438           0.156433    0.757976   \n",
       "engine_type        0.078760 -0.168131          -0.105280    0.144431   \n",
       "num_of_cylinders  -0.010750 -0.054967          -0.072699    0.201901   \n",
       "engine_size        0.572609  0.205928           0.028889    0.822676   \n",
       "fuel_system        0.470979  0.084064          -0.099933    0.673066   \n",
       "bore               1.000000 -0.055390           0.001263    0.566936   \n",
       "stroke            -0.055390  1.000000           0.187871    0.098267   \n",
       "compression_ratio  0.001263  0.187871           1.000000   -0.214514   \n",
       "horsepower         0.566936  0.098267          -0.214514    1.000000   \n",
       "peak_rpm          -0.267392 -0.063561          -0.435780    0.107885   \n",
       "city_mpg          -0.582027 -0.033956           0.331425   -0.822214   \n",
       "highway_mpg       -0.591309 -0.034636           0.268465   -0.804575   \n",
       "price              0.543155  0.082269           0.071107    0.809575   \n",
       "\n",
       "                   peak_rpm  city_mpg  highway_mpg     price  \n",
       "symboling          0.279740 -0.035527     0.036233 -0.082391  \n",
       "normalized_losses  0.239543 -0.225016    -0.181877  0.133999  \n",
       "Fuel_type          0.475812 -0.265676    -0.198690 -0.110326  \n",
       "make              -0.190057 -0.189237    -0.241851  0.179578  \n",
       "num_of_doors       0.232054  0.027617     0.045787 -0.042435  \n",
       "aspiration        -0.105713  0.014217    -0.021328 -0.072933  \n",
       "wheel_base        -0.035765 -0.469240    -0.472893  0.588333  \n",
       "engine_location    0.201917 -0.157132    -0.102964  0.331062  \n",
       "drive_wheels      -0.360305 -0.470606    -0.543304  0.584642  \n",
       "body_style        -0.212912  0.065761     0.059111 -0.163646  \n",
       "length            -0.285970 -0.665192    -0.698142  0.690628  \n",
       "width             -0.245800 -0.633531    -0.680635  0.751265  \n",
       "height            -0.309974 -0.049800    -0.104812  0.135486  \n",
       "curb_weight       -0.279361 -0.749543    -0.794889  0.834415  \n",
       "engine_type        0.057592 -0.171524    -0.156458  0.126025  \n",
       "num_of_cylinders   0.253959 -0.157424    -0.101386  0.005509  \n",
       "engine_size       -0.256733 -0.650546    -0.679571  0.872335  \n",
       "fuel_system        0.012378 -0.663651    -0.638017  0.521689  \n",
       "bore              -0.267392 -0.582027    -0.591309  0.543155  \n",
       "stroke            -0.063561 -0.033956    -0.034636  0.082269  \n",
       "compression_ratio -0.435780  0.331425     0.268465  0.071107  \n",
       "horsepower         0.107885 -0.822214    -0.804575  0.809575  \n",
       "peak_rpm           1.000000 -0.115413    -0.058598 -0.101616  \n",
       "city_mpg          -0.115413  1.000000     0.972044 -0.686571  \n",
       "highway_mpg       -0.058598  0.972044     1.000000 -0.704692  \n",
       "price             -0.101616 -0.686571    -0.704692  1.000000  \n",
       "\n",
       "[26 rows x 26 columns]"
      ]
     },
     "execution_count": 325,
     "metadata": {},
     "output_type": "execute_result"
    }
   ],
   "source": [
    "car.corr()"
   ]
  },
  {
   "cell_type": "code",
   "execution_count": 326,
   "id": "cecc2e82",
   "metadata": {},
   "outputs": [],
   "source": [
    "cr = car.drop(['price'],axis =1)"
   ]
  },
  {
   "cell_type": "code",
   "execution_count": 327,
   "id": "ab1e4935",
   "metadata": {},
   "outputs": [
    {
     "data": {
      "text/plain": [
       "Index(['symboling', 'normalized_losses', 'Fuel_type', 'make', 'num_of_doors',\n",
       "       'aspiration', 'wheel_base', 'engine_location', 'drive_wheels',\n",
       "       'body_style', 'length', 'width', 'height', 'curb_weight', 'engine_type',\n",
       "       'num_of_cylinders', 'engine_size', 'fuel_system', 'bore', 'stroke',\n",
       "       'compression_ratio', 'horsepower', 'peak_rpm', 'city_mpg',\n",
       "       'highway_mpg', 'price'],\n",
       "      dtype='object')"
      ]
     },
     "execution_count": 327,
     "metadata": {},
     "output_type": "execute_result"
    }
   ],
   "source": [
    "car.columns"
   ]
  },
  {
   "cell_type": "code",
   "execution_count": 332,
   "id": "60c0f13a",
   "metadata": {},
   "outputs": [],
   "source": [
    "col_name=list(cr.columns)"
   ]
  },
  {
   "cell_type": "code",
   "execution_count": 333,
   "id": "0effe72e",
   "metadata": {},
   "outputs": [
    {
     "name": "stdout",
     "output_type": "stream",
     "text": [
      "[-0.08239118716962357]\n",
      "[-0.08239118716962357, 0.13399873429274337]\n",
      "[-0.08239118716962357, 0.13399873429274337, -0.11032556467564852]\n",
      "[-0.08239118716962357, 0.13399873429274337, -0.11032556467564852, 0.17957848135197413]\n",
      "[-0.08239118716962357, 0.13399873429274337, -0.11032556467564852, 0.17957848135197413, -0.04243534269811203]\n",
      "[-0.08239118716962357, 0.13399873429274337, -0.11032556467564852, 0.17957848135197413, -0.04243534269811203, -0.07293257127569955]\n",
      "[-0.08239118716962357, 0.13399873429274337, -0.11032556467564852, 0.17957848135197413, -0.04243534269811203, -0.07293257127569955, 0.5883330641805204]\n",
      "[-0.08239118716962357, 0.13399873429274337, -0.11032556467564852, 0.17957848135197413, -0.04243534269811203, -0.07293257127569955, 0.5883330641805204, 0.33106186700991636]\n",
      "[-0.08239118716962357, 0.13399873429274337, -0.11032556467564852, 0.17957848135197413, -0.04243534269811203, -0.07293257127569955, 0.5883330641805204, 0.33106186700991636, 0.5846418222655079]\n",
      "[-0.08239118716962357, 0.13399873429274337, -0.11032556467564852, 0.17957848135197413, -0.04243534269811203, -0.07293257127569955, 0.5883330641805204, 0.33106186700991636, 0.5846418222655079, -0.16364633296300277]\n",
      "[-0.08239118716962357, 0.13399873429274337, -0.11032556467564852, 0.17957848135197413, -0.04243534269811203, -0.07293257127569955, 0.5883330641805204, 0.33106186700991636, 0.5846418222655079, -0.16364633296300277, 0.6906283804483643]\n",
      "[-0.08239118716962357, 0.13399873429274337, -0.11032556467564852, 0.17957848135197413, -0.04243534269811203, -0.07293257127569955, 0.5883330641805204, 0.33106186700991636, 0.5846418222655079, -0.16364633296300277, 0.6906283804483643, 0.7512653440522671]\n",
      "[-0.08239118716962357, 0.13399873429274337, -0.11032556467564852, 0.17957848135197413, -0.04243534269811203, -0.07293257127569955, 0.5883330641805204, 0.33106186700991636, 0.5846418222655079, -0.16364633296300277, 0.6906283804483643, 0.7512653440522671, 0.13548630756805974]\n",
      "[-0.08239118716962357, 0.13399873429274337, -0.11032556467564852, 0.17957848135197413, -0.04243534269811203, -0.07293257127569955, 0.5883330641805204, 0.33106186700991636, 0.5846418222655079, -0.16364633296300277, 0.6906283804483643, 0.7512653440522671, 0.13548630756805974, 0.8344145257702844]\n",
      "[-0.08239118716962357, 0.13399873429274337, -0.11032556467564852, 0.17957848135197413, -0.04243534269811203, -0.07293257127569955, 0.5883330641805204, 0.33106186700991636, 0.5846418222655079, -0.16364633296300277, 0.6906283804483643, 0.7512653440522671, 0.13548630756805974, 0.8344145257702844, 0.12602453769256042]\n",
      "[-0.08239118716962357, 0.13399873429274337, -0.11032556467564852, 0.17957848135197413, -0.04243534269811203, -0.07293257127569955, 0.5883330641805204, 0.33106186700991636, 0.5846418222655079, -0.16364633296300277, 0.6906283804483643, 0.7512653440522671, 0.13548630756805974, 0.8344145257702844, 0.12602453769256042, 0.005509331879366866]\n",
      "[-0.08239118716962357, 0.13399873429274337, -0.11032556467564852, 0.17957848135197413, -0.04243534269811203, -0.07293257127569955, 0.5883330641805204, 0.33106186700991636, 0.5846418222655079, -0.16364633296300277, 0.6906283804483643, 0.7512653440522671, 0.13548630756805974, 0.8344145257702844, 0.12602453769256042, 0.005509331879366866, 0.8723351674455185]\n",
      "[-0.08239118716962357, 0.13399873429274337, -0.11032556467564852, 0.17957848135197413, -0.04243534269811203, -0.07293257127569955, 0.5883330641805204, 0.33106186700991636, 0.5846418222655079, -0.16364633296300277, 0.6906283804483643, 0.7512653440522671, 0.13548630756805974, 0.8344145257702844, 0.12602453769256042, 0.005509331879366866, 0.8723351674455185, 0.5216890829532034]\n",
      "[-0.08239118716962357, 0.13399873429274337, -0.11032556467564852, 0.17957848135197413, -0.04243534269811203, -0.07293257127569955, 0.5883330641805204, 0.33106186700991636, 0.5846418222655079, -0.16364633296300277, 0.6906283804483643, 0.7512653440522671, 0.13548630756805974, 0.8344145257702844, 0.12602453769256042, 0.005509331879366866, 0.8723351674455185, 0.5216890829532034, 0.5431553832626601]\n",
      "[-0.08239118716962357, 0.13399873429274337, -0.11032556467564852, 0.17957848135197413, -0.04243534269811203, -0.07293257127569955, 0.5883330641805204, 0.33106186700991636, 0.5846418222655079, -0.16364633296300277, 0.6906283804483643, 0.7512653440522671, 0.13548630756805974, 0.8344145257702844, 0.12602453769256042, 0.005509331879366866, 0.8723351674455185, 0.5216890829532034, 0.5431553832626601, 0.0822692885532581]\n",
      "[-0.08239118716962357, 0.13399873429274337, -0.11032556467564852, 0.17957848135197413, -0.04243534269811203, -0.07293257127569955, 0.5883330641805204, 0.33106186700991636, 0.5846418222655079, -0.16364633296300277, 0.6906283804483643, 0.7512653440522671, 0.13548630756805974, 0.8344145257702844, 0.12602453769256042, 0.005509331879366866, 0.8723351674455185, 0.5216890829532034, 0.5431553832626601, 0.0822692885532581, 0.07110732668194146]\n",
      "[-0.08239118716962357, 0.13399873429274337, -0.11032556467564852, 0.17957848135197413, -0.04243534269811203, -0.07293257127569955, 0.5883330641805204, 0.33106186700991636, 0.5846418222655079, -0.16364633296300277, 0.6906283804483643, 0.7512653440522671, 0.13548630756805974, 0.8344145257702844, 0.12602453769256042, 0.005509331879366866, 0.8723351674455185, 0.5216890829532034, 0.5431553832626601, 0.0822692885532581, 0.07110732668194146, 0.809574567003656]\n",
      "[-0.08239118716962357, 0.13399873429274337, -0.11032556467564852, 0.17957848135197413, -0.04243534269811203, -0.07293257127569955, 0.5883330641805204, 0.33106186700991636, 0.5846418222655079, -0.16364633296300277, 0.6906283804483643, 0.7512653440522671, 0.13548630756805974, 0.8344145257702844, 0.12602453769256042, 0.005509331879366866, 0.8723351674455185, 0.5216890829532034, 0.5431553832626601, 0.0822692885532581, 0.07110732668194146, 0.809574567003656, -0.10161587407588143]\n",
      "[-0.08239118716962357, 0.13399873429274337, -0.11032556467564852, 0.17957848135197413, -0.04243534269811203, -0.07293257127569955, 0.5883330641805204, 0.33106186700991636, 0.5846418222655079, -0.16364633296300277, 0.6906283804483643, 0.7512653440522671, 0.13548630756805974, 0.8344145257702844, 0.12602453769256042, 0.005509331879366866, 0.8723351674455185, 0.5216890829532034, 0.5431553832626601, 0.0822692885532581, 0.07110732668194146, 0.809574567003656, -0.10161587407588143, -0.6865710067844679]\n",
      "[-0.08239118716962357, 0.13399873429274337, -0.11032556467564852, 0.17957848135197413, -0.04243534269811203, -0.07293257127569955, 0.5883330641805204, 0.33106186700991636, 0.5846418222655079, -0.16364633296300277, 0.6906283804483643, 0.7512653440522671, 0.13548630756805974, 0.8344145257702844, 0.12602453769256042, 0.005509331879366866, 0.8723351674455185, 0.5216890829532034, 0.5431553832626601, 0.0822692885532581, 0.07110732668194146, 0.809574567003656, -0.10161587407588143, -0.6865710067844679, -0.704692265058953]\n"
     ]
    }
   ],
   "source": [
    "corr_list=[]\n",
    "for cols in col_name:\n",
    "    corr=cr[cols].corr(car.price)\n",
    "    corr_list.append(corr)\n",
    "    print(corr_list)"
   ]
  },
  {
   "cell_type": "code",
   "execution_count": 334,
   "id": "9d0966f2",
   "metadata": {},
   "outputs": [
    {
     "data": {
      "text/html": [
       "<div>\n",
       "<style scoped>\n",
       "    .dataframe tbody tr th:only-of-type {\n",
       "        vertical-align: middle;\n",
       "    }\n",
       "\n",
       "    .dataframe tbody tr th {\n",
       "        vertical-align: top;\n",
       "    }\n",
       "\n",
       "    .dataframe thead th {\n",
       "        text-align: right;\n",
       "    }\n",
       "</style>\n",
       "<table border=\"1\" class=\"dataframe\">\n",
       "  <thead>\n",
       "    <tr style=\"text-align: right;\">\n",
       "      <th></th>\n",
       "      <th>Corelation</th>\n",
       "      <th>Column</th>\n",
       "    </tr>\n",
       "  </thead>\n",
       "  <tbody>\n",
       "    <tr>\n",
       "      <th>0</th>\n",
       "      <td>-0.082391</td>\n",
       "      <td>symboling</td>\n",
       "    </tr>\n",
       "    <tr>\n",
       "      <th>1</th>\n",
       "      <td>0.133999</td>\n",
       "      <td>normalized_losses</td>\n",
       "    </tr>\n",
       "    <tr>\n",
       "      <th>2</th>\n",
       "      <td>-0.110326</td>\n",
       "      <td>Fuel_type</td>\n",
       "    </tr>\n",
       "    <tr>\n",
       "      <th>3</th>\n",
       "      <td>0.179578</td>\n",
       "      <td>make</td>\n",
       "    </tr>\n",
       "    <tr>\n",
       "      <th>4</th>\n",
       "      <td>-0.042435</td>\n",
       "      <td>num_of_doors</td>\n",
       "    </tr>\n",
       "    <tr>\n",
       "      <th>5</th>\n",
       "      <td>-0.072933</td>\n",
       "      <td>aspiration</td>\n",
       "    </tr>\n",
       "    <tr>\n",
       "      <th>6</th>\n",
       "      <td>0.588333</td>\n",
       "      <td>wheel_base</td>\n",
       "    </tr>\n",
       "    <tr>\n",
       "      <th>7</th>\n",
       "      <td>0.331062</td>\n",
       "      <td>engine_location</td>\n",
       "    </tr>\n",
       "    <tr>\n",
       "      <th>8</th>\n",
       "      <td>0.584642</td>\n",
       "      <td>drive_wheels</td>\n",
       "    </tr>\n",
       "    <tr>\n",
       "      <th>9</th>\n",
       "      <td>-0.163646</td>\n",
       "      <td>body_style</td>\n",
       "    </tr>\n",
       "    <tr>\n",
       "      <th>10</th>\n",
       "      <td>0.690628</td>\n",
       "      <td>length</td>\n",
       "    </tr>\n",
       "    <tr>\n",
       "      <th>11</th>\n",
       "      <td>0.751265</td>\n",
       "      <td>width</td>\n",
       "    </tr>\n",
       "    <tr>\n",
       "      <th>12</th>\n",
       "      <td>0.135486</td>\n",
       "      <td>height</td>\n",
       "    </tr>\n",
       "    <tr>\n",
       "      <th>13</th>\n",
       "      <td>0.834415</td>\n",
       "      <td>curb_weight</td>\n",
       "    </tr>\n",
       "    <tr>\n",
       "      <th>14</th>\n",
       "      <td>0.126025</td>\n",
       "      <td>engine_type</td>\n",
       "    </tr>\n",
       "    <tr>\n",
       "      <th>15</th>\n",
       "      <td>0.005509</td>\n",
       "      <td>num_of_cylinders</td>\n",
       "    </tr>\n",
       "    <tr>\n",
       "      <th>16</th>\n",
       "      <td>0.872335</td>\n",
       "      <td>engine_size</td>\n",
       "    </tr>\n",
       "    <tr>\n",
       "      <th>17</th>\n",
       "      <td>0.521689</td>\n",
       "      <td>fuel_system</td>\n",
       "    </tr>\n",
       "    <tr>\n",
       "      <th>18</th>\n",
       "      <td>0.543155</td>\n",
       "      <td>bore</td>\n",
       "    </tr>\n",
       "    <tr>\n",
       "      <th>19</th>\n",
       "      <td>0.082269</td>\n",
       "      <td>stroke</td>\n",
       "    </tr>\n",
       "    <tr>\n",
       "      <th>20</th>\n",
       "      <td>0.071107</td>\n",
       "      <td>compression_ratio</td>\n",
       "    </tr>\n",
       "    <tr>\n",
       "      <th>21</th>\n",
       "      <td>0.809575</td>\n",
       "      <td>horsepower</td>\n",
       "    </tr>\n",
       "    <tr>\n",
       "      <th>22</th>\n",
       "      <td>-0.101616</td>\n",
       "      <td>peak_rpm</td>\n",
       "    </tr>\n",
       "    <tr>\n",
       "      <th>23</th>\n",
       "      <td>-0.686571</td>\n",
       "      <td>city_mpg</td>\n",
       "    </tr>\n",
       "    <tr>\n",
       "      <th>24</th>\n",
       "      <td>-0.704692</td>\n",
       "      <td>highway_mpg</td>\n",
       "    </tr>\n",
       "  </tbody>\n",
       "</table>\n",
       "</div>"
      ],
      "text/plain": [
       "    Corelation             Column\n",
       "0    -0.082391          symboling\n",
       "1     0.133999  normalized_losses\n",
       "2    -0.110326          Fuel_type\n",
       "3     0.179578               make\n",
       "4    -0.042435       num_of_doors\n",
       "5    -0.072933         aspiration\n",
       "6     0.588333         wheel_base\n",
       "7     0.331062    engine_location\n",
       "8     0.584642       drive_wheels\n",
       "9    -0.163646         body_style\n",
       "10    0.690628             length\n",
       "11    0.751265              width\n",
       "12    0.135486             height\n",
       "13    0.834415        curb_weight\n",
       "14    0.126025        engine_type\n",
       "15    0.005509   num_of_cylinders\n",
       "16    0.872335        engine_size\n",
       "17    0.521689        fuel_system\n",
       "18    0.543155               bore\n",
       "19    0.082269             stroke\n",
       "20    0.071107  compression_ratio\n",
       "21    0.809575         horsepower\n",
       "22   -0.101616           peak_rpm\n",
       "23   -0.686571           city_mpg\n",
       "24   -0.704692        highway_mpg"
      ]
     },
     "execution_count": 334,
     "metadata": {},
     "output_type": "execute_result"
    }
   ],
   "source": [
    "df2=pd.DataFrame()\n",
    "\n",
    "\n",
    "df2['Corelation']=corr_list\n",
    "df2['Column']=col_name\n",
    "\n",
    "df2"
   ]
  },
  {
   "cell_type": "markdown",
   "id": "128ee61d",
   "metadata": {},
   "source": [
    "# Observation\n",
    "1. curb_weight,wheel_base,width,engine_size,fuel_system,bore,horsepower\n",
    "   these x veriable have a high positive correlation with price.\n",
    "2. highway_mpg,city_mpg,body_style have a negetive correlation with the price ."
   ]
  },
  {
   "cell_type": "code",
   "execution_count": null,
   "id": "513e712c",
   "metadata": {},
   "outputs": [],
   "source": []
  },
  {
   "cell_type": "code",
   "execution_count": null,
   "id": "62627274",
   "metadata": {},
   "outputs": [],
   "source": []
  },
  {
   "cell_type": "code",
   "execution_count": null,
   "id": "1545dfbd",
   "metadata": {},
   "outputs": [],
   "source": []
  },
  {
   "cell_type": "code",
   "execution_count": null,
   "id": "b4ec816c",
   "metadata": {},
   "outputs": [],
   "source": []
  }
 ],
 "metadata": {
  "kernelspec": {
   "display_name": "Python 3 (ipykernel)",
   "language": "python",
   "name": "python3"
  },
  "language_info": {
   "codemirror_mode": {
    "name": "ipython",
    "version": 3
   },
   "file_extension": ".py",
   "mimetype": "text/x-python",
   "name": "python",
   "nbconvert_exporter": "python",
   "pygments_lexer": "ipython3",
   "version": "3.9.12"
  }
 },
 "nbformat": 4,
 "nbformat_minor": 5
}
